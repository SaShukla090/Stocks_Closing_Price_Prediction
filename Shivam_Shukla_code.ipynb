{
 "cells": [
  {
   "cell_type": "markdown",
   "metadata": {},
   "source": [
    "# DSML Project Phase 2:\n",
    "# Project 6: Stocks Closing Price Prediciton using Machine Learning.\n"
   ]
  },
  {
   "cell_type": "markdown",
   "metadata": {},
   "source": [
    "# Name: Shivam Shukla \n",
    "# Roll No: 19301"
   ]
  },
  {
   "cell_type": "code",
   "execution_count": 1,
   "id": "d24b10dc",
   "metadata": {},
   "outputs": [],
   "source": [
    "import pandas as pd\n",
    "import numpy as np\n",
    "from sklearn.model_selection import train_test_split \n",
    "import matplotlib.pyplot as plt"
   ]
  },
  {
   "cell_type": "code",
   "execution_count": 62,
   "id": "ab449328",
   "metadata": {},
   "outputs": [],
   "source": [
    "df = pd.read_csv(\"stocknet_trn_data.csv\")\n",
    "df_target = pd.read_csv(\"stocknet_trn_data_targets.csv\", header=None)\n",
    "df_test = pd.read_csv(\"stocknet_tst_data.csv\")\n"
   ]
  },
  {
   "cell_type": "code",
   "execution_count": 3,
   "id": "642fe699",
   "metadata": {},
   "outputs": [
    {
     "data": {
      "text/html": [
       "<div>\n",
       "<style scoped>\n",
       "    .dataframe tbody tr th:only-of-type {\n",
       "        vertical-align: middle;\n",
       "    }\n",
       "\n",
       "    .dataframe tbody tr th {\n",
       "        vertical-align: top;\n",
       "    }\n",
       "\n",
       "    .dataframe thead th {\n",
       "        text-align: right;\n",
       "    }\n",
       "</style>\n",
       "<table border=\"1\" class=\"dataframe\">\n",
       "  <thead>\n",
       "    <tr style=\"text-align: right;\">\n",
       "      <th></th>\n",
       "      <th>0</th>\n",
       "      <th>1</th>\n",
       "    </tr>\n",
       "  </thead>\n",
       "  <tbody>\n",
       "    <tr>\n",
       "      <th>0</th>\n",
       "      <td>d1</td>\n",
       "      <td>75.650002</td>\n",
       "    </tr>\n",
       "    <tr>\n",
       "      <th>1</th>\n",
       "      <td>d2</td>\n",
       "      <td>124.449997</td>\n",
       "    </tr>\n",
       "    <tr>\n",
       "      <th>2</th>\n",
       "      <td>d3</td>\n",
       "      <td>82.660004</td>\n",
       "    </tr>\n",
       "    <tr>\n",
       "      <th>3</th>\n",
       "      <td>d4</td>\n",
       "      <td>57.009998</td>\n",
       "    </tr>\n",
       "    <tr>\n",
       "      <th>4</th>\n",
       "      <td>d5</td>\n",
       "      <td>47.860001</td>\n",
       "    </tr>\n",
       "  </tbody>\n",
       "</table>\n",
       "</div>"
      ],
      "text/plain": [
       "    0           1\n",
       "0  d1   75.650002\n",
       "1  d2  124.449997\n",
       "2  d3   82.660004\n",
       "3  d4   57.009998\n",
       "4  d5   47.860001"
      ]
     },
     "execution_count": 3,
     "metadata": {},
     "output_type": "execute_result"
    }
   ],
   "source": [
    "df_target.head()"
   ]
  },
  {
   "cell_type": "code",
   "execution_count": 4,
   "id": "c8430b52",
   "metadata": {},
   "outputs": [
    {
     "data": {
      "text/html": [
       "<div>\n",
       "<style scoped>\n",
       "    .dataframe tbody tr th:only-of-type {\n",
       "        vertical-align: middle;\n",
       "    }\n",
       "\n",
       "    .dataframe tbody tr th {\n",
       "        vertical-align: top;\n",
       "    }\n",
       "\n",
       "    .dataframe thead th {\n",
       "        text-align: right;\n",
       "    }\n",
       "</style>\n",
       "<table border=\"1\" class=\"dataframe\">\n",
       "  <thead>\n",
       "    <tr style=\"text-align: right;\">\n",
       "      <th></th>\n",
       "      <th>Open</th>\n",
       "      <th>High</th>\n",
       "      <th>Low</th>\n",
       "      <th>Volume</th>\n",
       "    </tr>\n",
       "  </thead>\n",
       "  <tbody>\n",
       "    <tr>\n",
       "      <th>0</th>\n",
       "      <td>75.430000</td>\n",
       "      <td>75.910004</td>\n",
       "      <td>75.139999</td>\n",
       "      <td>3436700.0</td>\n",
       "    </tr>\n",
       "    <tr>\n",
       "      <th>1</th>\n",
       "      <td>124.930000</td>\n",
       "      <td>124.940002</td>\n",
       "      <td>124.169998</td>\n",
       "      <td>2366700.0</td>\n",
       "    </tr>\n",
       "    <tr>\n",
       "      <th>2</th>\n",
       "      <td>84.339996</td>\n",
       "      <td>84.370003</td>\n",
       "      <td>82.370003</td>\n",
       "      <td>11338700.0</td>\n",
       "    </tr>\n",
       "    <tr>\n",
       "      <th>3</th>\n",
       "      <td>56.770000</td>\n",
       "      <td>57.150002</td>\n",
       "      <td>56.529999</td>\n",
       "      <td>413300.0</td>\n",
       "    </tr>\n",
       "    <tr>\n",
       "      <th>4</th>\n",
       "      <td>47.419998</td>\n",
       "      <td>48.090000</td>\n",
       "      <td>46.759998</td>\n",
       "      <td>9531100.0</td>\n",
       "    </tr>\n",
       "  </tbody>\n",
       "</table>\n",
       "</div>"
      ],
      "text/plain": [
       "         Open        High         Low      Volume\n",
       "0   75.430000   75.910004   75.139999   3436700.0\n",
       "1  124.930000  124.940002  124.169998   2366700.0\n",
       "2   84.339996   84.370003   82.370003  11338700.0\n",
       "3   56.770000   57.150002   56.529999    413300.0\n",
       "4   47.419998   48.090000   46.759998   9531100.0"
      ]
     },
     "execution_count": 4,
     "metadata": {},
     "output_type": "execute_result"
    }
   ],
   "source": [
    "df.head()"
   ]
  },
  {
   "cell_type": "code",
   "execution_count": 5,
   "id": "70102c63",
   "metadata": {},
   "outputs": [
    {
     "data": {
      "text/html": [
       "<div>\n",
       "<style scoped>\n",
       "    .dataframe tbody tr th:only-of-type {\n",
       "        vertical-align: middle;\n",
       "    }\n",
       "\n",
       "    .dataframe tbody tr th {\n",
       "        vertical-align: top;\n",
       "    }\n",
       "\n",
       "    .dataframe thead th {\n",
       "        text-align: right;\n",
       "    }\n",
       "</style>\n",
       "<table border=\"1\" class=\"dataframe\">\n",
       "  <thead>\n",
       "    <tr style=\"text-align: right;\">\n",
       "      <th></th>\n",
       "      <th>Open</th>\n",
       "      <th>High</th>\n",
       "      <th>Low</th>\n",
       "      <th>Volume</th>\n",
       "    </tr>\n",
       "  </thead>\n",
       "  <tbody>\n",
       "    <tr>\n",
       "      <th>count</th>\n",
       "      <td>97729.000000</td>\n",
       "      <td>97729.000000</td>\n",
       "      <td>97729.000000</td>\n",
       "      <td>9.772900e+04</td>\n",
       "    </tr>\n",
       "    <tr>\n",
       "      <th>mean</th>\n",
       "      <td>2427.661341</td>\n",
       "      <td>2439.557429</td>\n",
       "      <td>2413.965223</td>\n",
       "      <td>9.064781e+06</td>\n",
       "    </tr>\n",
       "    <tr>\n",
       "      <th>std</th>\n",
       "      <td>21797.841949</td>\n",
       "      <td>21900.340643</td>\n",
       "      <td>21678.006665</td>\n",
       "      <td>1.800910e+07</td>\n",
       "    </tr>\n",
       "    <tr>\n",
       "      <th>min</th>\n",
       "      <td>2.130000</td>\n",
       "      <td>2.280000</td>\n",
       "      <td>1.960000</td>\n",
       "      <td>0.000000e+00</td>\n",
       "    </tr>\n",
       "    <tr>\n",
       "      <th>25%</th>\n",
       "      <td>40.450001</td>\n",
       "      <td>40.730000</td>\n",
       "      <td>40.180000</td>\n",
       "      <td>1.198000e+06</td>\n",
       "    </tr>\n",
       "    <tr>\n",
       "      <th>50%</th>\n",
       "      <td>65.959999</td>\n",
       "      <td>66.489998</td>\n",
       "      <td>65.459999</td>\n",
       "      <td>3.544600e+06</td>\n",
       "    </tr>\n",
       "    <tr>\n",
       "      <th>75%</th>\n",
       "      <td>97.669998</td>\n",
       "      <td>98.470001</td>\n",
       "      <td>96.930000</td>\n",
       "      <td>8.996400e+06</td>\n",
       "    </tr>\n",
       "    <tr>\n",
       "      <th>max</th>\n",
       "      <td>272800.000000</td>\n",
       "      <td>272885.000000</td>\n",
       "      <td>271040.000000</td>\n",
       "      <td>6.166205e+08</td>\n",
       "    </tr>\n",
       "  </tbody>\n",
       "</table>\n",
       "</div>"
      ],
      "text/plain": [
       "                Open           High            Low        Volume\n",
       "count   97729.000000   97729.000000   97729.000000  9.772900e+04\n",
       "mean     2427.661341    2439.557429    2413.965223  9.064781e+06\n",
       "std     21797.841949   21900.340643   21678.006665  1.800910e+07\n",
       "min         2.130000       2.280000       1.960000  0.000000e+00\n",
       "25%        40.450001      40.730000      40.180000  1.198000e+06\n",
       "50%        65.959999      66.489998      65.459999  3.544600e+06\n",
       "75%        97.669998      98.470001      96.930000  8.996400e+06\n",
       "max    272800.000000  272885.000000  271040.000000  6.166205e+08"
      ]
     },
     "execution_count": 5,
     "metadata": {},
     "output_type": "execute_result"
    }
   ],
   "source": [
    "df.describe()"
   ]
  },
  {
   "cell_type": "code",
   "execution_count": 6,
   "id": "08c0d74f",
   "metadata": {},
   "outputs": [
    {
     "name": "stdout",
     "output_type": "stream",
     "text": [
      "<class 'pandas.core.frame.DataFrame'>\n",
      "RangeIndex: 97732 entries, 0 to 97731\n",
      "Data columns (total 4 columns):\n",
      " #   Column  Non-Null Count  Dtype  \n",
      "---  ------  --------------  -----  \n",
      " 0   Open    97729 non-null  float64\n",
      " 1   High    97729 non-null  float64\n",
      " 2   Low     97729 non-null  float64\n",
      " 3   Volume  97729 non-null  float64\n",
      "dtypes: float64(4)\n",
      "memory usage: 3.0 MB\n"
     ]
    }
   ],
   "source": [
    "df.info()"
   ]
  },
  {
   "cell_type": "code",
   "execution_count": 7,
   "id": "a5101b1c",
   "metadata": {},
   "outputs": [],
   "source": [
    "X = df\n",
    "y= df_target.iloc[:,1]"
   ]
  },
  {
   "cell_type": "code",
   "execution_count": 8,
   "id": "3d6d5961",
   "metadata": {},
   "outputs": [],
   "source": [
    "#droping NULL values\n",
    "X = X.dropna()\n",
    "y = y.dropna()"
   ]
  },
  {
   "cell_type": "code",
   "execution_count": null,
   "id": "e8f4f989",
   "metadata": {},
   "outputs": [],
   "source": []
  },
  {
   "cell_type": "code",
   "execution_count": 9,
   "id": "6a706511",
   "metadata": {},
   "outputs": [
    {
     "name": "stdout",
     "output_type": "stream",
     "text": [
      "(97729, 4) (97729,)\n"
     ]
    }
   ],
   "source": [
    "print(X.shape,y.shape)"
   ]
  },
  {
   "cell_type": "code",
   "execution_count": 10,
   "id": "02358f82",
   "metadata": {},
   "outputs": [],
   "source": [
    "from sklearn.model_selection import train_test_split\n",
    "X_train, X_test, y_train, y_test = train_test_split(X, y, test_size=0.20,random_state = 42)"
   ]
  },
  {
   "cell_type": "code",
   "execution_count": 11,
   "id": "c12d0a9a",
   "metadata": {},
   "outputs": [
    {
     "name": "stdout",
     "output_type": "stream",
     "text": [
      "Train (78183, 4) (78183,)\n",
      "Test (19546, 4) (19546,)\n"
     ]
    }
   ],
   "source": [
    "# summarize\n",
    "print('Train', X_train.shape, y_train.shape)\n",
    "print('Test', X_test.shape, y_test.shape)"
   ]
  },
  {
   "cell_type": "markdown",
   "id": "26cc480d",
   "metadata": {},
   "source": [
    "# Correlation Feature Selection"
   ]
  },
  {
   "cell_type": "code",
   "execution_count": 12,
   "id": "f088cf24",
   "metadata": {},
   "outputs": [
    {
     "name": "stdout",
     "output_type": "stream",
     "text": [
      "Feature 0: 1539337061.925623\n",
      "Feature 1: 3601959825.537310\n",
      "Feature 2: 3164765254.511551\n",
      "Feature 3: 230.777136\n"
     ]
    },
    {
     "data": {
      "image/png": "[encoded data removed]",
      "text/plain": [
       "<Figure size 432x288 with 1 Axes>"
      ]
     },
     "metadata": {
      "needs_background": "light"
     },
     "output_type": "display_data"
    }
   ],
   "source": [
    "# example of correlation feature selection for numerical data\n",
    "from sklearn.datasets import make_regression\n",
    "from sklearn.model_selection import train_test_split\n",
    "from sklearn.feature_selection import SelectKBest\n",
    "from sklearn.feature_selection import f_regression,mutual_info_regression\n",
    "from matplotlib import pyplot\n",
    " \n",
    "# feature selection\n",
    "def select_features(X_train, y_train, X_test):\n",
    "\t# configure to select all features\n",
    "\tfs = SelectKBest(score_func=f_regression, k='all')\n",
    "\t# learn relationship from training data\n",
    "\tfs.fit(X_train, y_train)\n",
    "\t# transform train input data\n",
    "\tX_train_fs = fs.transform(X_train)\n",
    "\t# transform test input data\n",
    "\tX_test_fs = fs.transform(X_test)\n",
    "\treturn X_train_fs, X_test_fs, fs\n",
    "\n",
    "\n",
    "X_train_fs, X_test_fs, fs = select_features(X_train, y_train, X_test)\n",
    "# what are scores for the features\n",
    "for i in range(len(fs.scores_)):\n",
    "\tprint('Feature %d: %f' % (i, fs.scores_[i]))\n",
    "# plot the scores\n",
    "pyplot.bar([i for i in range(len(fs.scores_))], fs.scores_,color = [\"red\",\"blue\",\"green\",\"yellow\"])\n",
    "pyplot.show()"
   ]
  },
  {
   "cell_type": "markdown",
   "id": "9ac8a190",
   "metadata": {},
   "source": [
    "# Mutual Info Regression"
   ]
  },
  {
   "cell_type": "code",
   "execution_count": 13,
   "id": "3e981ac4",
   "metadata": {},
   "outputs": [
    {
     "name": "stdout",
     "output_type": "stream",
     "text": [
      "Feature 0: 4.331421\n",
      "Feature 1: 4.988335\n",
      "Feature 2: 4.930521\n",
      "Feature 3: 0.358829\n"
     ]
    },
    {
     "data": {
      "image/png": "[encoded data removed]",
      "text/plain": [
       "<Figure size 432x288 with 1 Axes>"
      ]
     },
     "metadata": {
      "needs_background": "light"
     },
     "output_type": "display_data"
    }
   ],
   "source": [
    "# feature selection\n",
    "def select_features(X_train, y_train, X_test):\n",
    "\t# configure to select all features\n",
    "\tfs = SelectKBest(score_func=mutual_info_regression, k='all')\n",
    "\t# learn relationship from training data\n",
    "\tfs.fit(X_train, y_train)\n",
    "\t# transform train input data\n",
    "\tX_train_fs = fs.transform(X_train)\n",
    "\t# transform test input data\n",
    "\tX_test_fs = fs.transform(X_test)\n",
    "\treturn X_train_fs, X_test_fs, fs\n",
    "\n",
    "\n",
    "X_train_fs, X_test_fs, fs = select_features(X_train, y_train, X_test)\n",
    "# what are scores for the features\n",
    "for i in range(len(fs.scores_)):\n",
    "\tprint('Feature %d: %f' % (i, fs.scores_[i]))\n",
    "# plot the scores\n",
    "pyplot.bar([i for i in range(len(fs.scores_))], fs.scores_,color = [\"red\",\"blue\",\"green\",\"yellow\"])\n",
    "pyplot.show()"
   ]
  },
  {
   "cell_type": "code",
   "execution_count": 14,
   "id": "5151a372",
   "metadata": {},
   "outputs": [],
   "source": [
    "# X[\"Adj Close\"].head()"
   ]
  },
  {
   "cell_type": "code",
   "execution_count": 15,
   "id": "3fb9bb50",
   "metadata": {
    "scrolled": true
   },
   "outputs": [
    {
     "data": {
      "text/plain": [
       "0     75.650002\n",
       "1    124.449997\n",
       "2     82.660004\n",
       "3     57.009998\n",
       "4     47.860001\n",
       "Name: 1, dtype: float64"
      ]
     },
     "execution_count": 15,
     "metadata": {},
     "output_type": "execute_result"
    }
   ],
   "source": [
    "y.head()"
   ]
  },
  {
   "cell_type": "code",
   "execution_count": 16,
   "id": "8d3756f2",
   "metadata": {},
   "outputs": [],
   "source": [
    "D = X.copy()\n",
    "D[\"Closed Price\"] = y"
   ]
  },
  {
   "cell_type": "code",
   "execution_count": 17,
   "id": "f4f11567",
   "metadata": {},
   "outputs": [],
   "source": [
    "correlation = D.corr(method=\"pearson\")"
   ]
  },
  {
   "cell_type": "code",
   "execution_count": 18,
   "id": "1be594e9",
   "metadata": {},
   "outputs": [
    {
     "data": {
      "text/html": [
       "<div>\n",
       "<style scoped>\n",
       "    .dataframe tbody tr th:only-of-type {\n",
       "        vertical-align: middle;\n",
       "    }\n",
       "\n",
       "    .dataframe tbody tr th {\n",
       "        vertical-align: top;\n",
       "    }\n",
       "\n",
       "    .dataframe thead th {\n",
       "        text-align: right;\n",
       "    }\n",
       "</style>\n",
       "<table border=\"1\" class=\"dataframe\">\n",
       "  <thead>\n",
       "    <tr style=\"text-align: right;\">\n",
       "      <th></th>\n",
       "      <th>Open</th>\n",
       "      <th>High</th>\n",
       "      <th>Low</th>\n",
       "      <th>Volume</th>\n",
       "      <th>Closed Price</th>\n",
       "    </tr>\n",
       "  </thead>\n",
       "  <tbody>\n",
       "    <tr>\n",
       "      <th>0</th>\n",
       "      <td>75.430000</td>\n",
       "      <td>75.910004</td>\n",
       "      <td>75.139999</td>\n",
       "      <td>3436700.0</td>\n",
       "      <td>75.650002</td>\n",
       "    </tr>\n",
       "    <tr>\n",
       "      <th>1</th>\n",
       "      <td>124.930000</td>\n",
       "      <td>124.940002</td>\n",
       "      <td>124.169998</td>\n",
       "      <td>2366700.0</td>\n",
       "      <td>124.449997</td>\n",
       "    </tr>\n",
       "    <tr>\n",
       "      <th>2</th>\n",
       "      <td>84.339996</td>\n",
       "      <td>84.370003</td>\n",
       "      <td>82.370003</td>\n",
       "      <td>11338700.0</td>\n",
       "      <td>82.660004</td>\n",
       "    </tr>\n",
       "    <tr>\n",
       "      <th>3</th>\n",
       "      <td>56.770000</td>\n",
       "      <td>57.150002</td>\n",
       "      <td>56.529999</td>\n",
       "      <td>413300.0</td>\n",
       "      <td>57.009998</td>\n",
       "    </tr>\n",
       "    <tr>\n",
       "      <th>4</th>\n",
       "      <td>47.419998</td>\n",
       "      <td>48.090000</td>\n",
       "      <td>46.759998</td>\n",
       "      <td>9531100.0</td>\n",
       "      <td>47.860001</td>\n",
       "    </tr>\n",
       "  </tbody>\n",
       "</table>\n",
       "</div>"
      ],
      "text/plain": [
       "         Open        High         Low      Volume  Closed Price\n",
       "0   75.430000   75.910004   75.139999   3436700.0     75.650002\n",
       "1  124.930000  124.940002  124.169998   2366700.0    124.449997\n",
       "2   84.339996   84.370003   82.370003  11338700.0     82.660004\n",
       "3   56.770000   57.150002   56.529999    413300.0     57.009998\n",
       "4   47.419998   48.090000   46.759998   9531100.0     47.860001"
      ]
     },
     "execution_count": 18,
     "metadata": {},
     "output_type": "execute_result"
    }
   ],
   "source": [
    "D.head()"
   ]
  },
  {
   "cell_type": "code",
   "execution_count": 19,
   "id": "8c851c9d",
   "metadata": {},
   "outputs": [
    {
     "name": "stdout",
     "output_type": "stream",
     "text": [
      "                  Open      High       Low    Volume  Closed Price\n",
      "Open          1.000000  0.999988  0.999988 -0.054682      0.999974\n",
      "High          0.999988  1.000000  0.999987 -0.054687      0.999989\n",
      "Low           0.999988  0.999987  1.000000 -0.054680      0.999988\n",
      "Volume       -0.054682 -0.054687 -0.054680  1.000000     -0.054684\n",
      "Closed Price  0.999974  0.999989  0.999988 -0.054684      1.000000\n"
     ]
    }
   ],
   "source": [
    "print(correlation)"
   ]
  },
  {
   "cell_type": "code",
   "execution_count": 20,
   "id": "a91179cb",
   "metadata": {},
   "outputs": [
    {
     "data": {
      "image/png": "[encoded data removed]",
      "text/plain": [
       "<Figure size 1080x720 with 2 Axes>"
      ]
     },
     "metadata": {
      "needs_background": "light"
     },
     "output_type": "display_data"
    }
   ],
   "source": [
    "# from matplotlib.pyplot as plt\n",
    "import seaborn as sns\n",
    "pyplot.figure(figsize=(15,10))\n",
    "plot = sns.heatmap(correlation)\n",
    "pyplot.show()"
   ]
  },
  {
   "cell_type": "code",
   "execution_count": 21,
   "id": "0a8837d8",
   "metadata": {},
   "outputs": [],
   "source": [
    "Correlation_close = D.iloc[:,:5].corrwith(D[\"Closed Price\"], axis=\"index\", drop=False, method=\"pearson\")"
   ]
  },
  {
   "cell_type": "code",
   "execution_count": 22,
   "id": "383ba30b",
   "metadata": {},
   "outputs": [
    {
     "data": {
      "text/plain": [
       "Open            0.999974\n",
       "High            0.999989\n",
       "Low             0.999988\n",
       "Volume         -0.054684\n",
       "Closed Price    1.000000\n",
       "dtype: float64"
      ]
     },
     "execution_count": 22,
     "metadata": {},
     "output_type": "execute_result"
    }
   ],
   "source": [
    "Correlation_close"
   ]
  },
  {
   "cell_type": "code",
   "execution_count": 23,
   "id": "47b729d7",
   "metadata": {},
   "outputs": [
    {
     "data": {
      "text/plain": [
       "[<matplotlib.lines.Line2D at 0x21dbcadf610>]"
      ]
     },
     "execution_count": 23,
     "metadata": {},
     "output_type": "execute_result"
    },
    {
     "data": {
      "image/png": "[encoded data removed]",
      "text/plain": [
       "<Figure size 432x288 with 1 Axes>"
      ]
     },
     "metadata": {
      "needs_background": "light"
     },
     "output_type": "display_data"
    }
   ],
   "source": [
    "pyplot.plot(Correlation_close)"
   ]
  },
  {
   "cell_type": "code",
   "execution_count": 24,
   "id": "2be704b4",
   "metadata": {},
   "outputs": [],
   "source": [
    "import matplotlib.pyplot as plt"
   ]
  },
  {
   "cell_type": "code",
   "execution_count": 25,
   "id": "f17cd539",
   "metadata": {},
   "outputs": [
    {
     "data": {
      "text/html": [
       "<div>\n",
       "<style scoped>\n",
       "    .dataframe tbody tr th:only-of-type {\n",
       "        vertical-align: middle;\n",
       "    }\n",
       "\n",
       "    .dataframe tbody tr th {\n",
       "        vertical-align: top;\n",
       "    }\n",
       "\n",
       "    .dataframe thead th {\n",
       "        text-align: right;\n",
       "    }\n",
       "</style>\n",
       "<table border=\"1\" class=\"dataframe\">\n",
       "  <thead>\n",
       "    <tr style=\"text-align: right;\">\n",
       "      <th></th>\n",
       "      <th>Open</th>\n",
       "      <th>High</th>\n",
       "      <th>Low</th>\n",
       "      <th>Volume</th>\n",
       "    </tr>\n",
       "  </thead>\n",
       "  <tbody>\n",
       "    <tr>\n",
       "      <th>count</th>\n",
       "      <td>97729.000000</td>\n",
       "      <td>97729.000000</td>\n",
       "      <td>97729.000000</td>\n",
       "      <td>9.772900e+04</td>\n",
       "    </tr>\n",
       "    <tr>\n",
       "      <th>mean</th>\n",
       "      <td>2427.661341</td>\n",
       "      <td>2439.557429</td>\n",
       "      <td>2413.965223</td>\n",
       "      <td>9.064781e+06</td>\n",
       "    </tr>\n",
       "    <tr>\n",
       "      <th>std</th>\n",
       "      <td>21797.841949</td>\n",
       "      <td>21900.340643</td>\n",
       "      <td>21678.006665</td>\n",
       "      <td>1.800910e+07</td>\n",
       "    </tr>\n",
       "    <tr>\n",
       "      <th>min</th>\n",
       "      <td>2.130000</td>\n",
       "      <td>2.280000</td>\n",
       "      <td>1.960000</td>\n",
       "      <td>0.000000e+00</td>\n",
       "    </tr>\n",
       "    <tr>\n",
       "      <th>25%</th>\n",
       "      <td>40.450001</td>\n",
       "      <td>40.730000</td>\n",
       "      <td>40.180000</td>\n",
       "      <td>1.198000e+06</td>\n",
       "    </tr>\n",
       "    <tr>\n",
       "      <th>50%</th>\n",
       "      <td>65.959999</td>\n",
       "      <td>66.489998</td>\n",
       "      <td>65.459999</td>\n",
       "      <td>3.544600e+06</td>\n",
       "    </tr>\n",
       "    <tr>\n",
       "      <th>75%</th>\n",
       "      <td>97.669998</td>\n",
       "      <td>98.470001</td>\n",
       "      <td>96.930000</td>\n",
       "      <td>8.996400e+06</td>\n",
       "    </tr>\n",
       "    <tr>\n",
       "      <th>max</th>\n",
       "      <td>272800.000000</td>\n",
       "      <td>272885.000000</td>\n",
       "      <td>271040.000000</td>\n",
       "      <td>6.166205e+08</td>\n",
       "    </tr>\n",
       "  </tbody>\n",
       "</table>\n",
       "</div>"
      ],
      "text/plain": [
       "                Open           High            Low        Volume\n",
       "count   97729.000000   97729.000000   97729.000000  9.772900e+04\n",
       "mean     2427.661341    2439.557429    2413.965223  9.064781e+06\n",
       "std     21797.841949   21900.340643   21678.006665  1.800910e+07\n",
       "min         2.130000       2.280000       1.960000  0.000000e+00\n",
       "25%        40.450001      40.730000      40.180000  1.198000e+06\n",
       "50%        65.959999      66.489998      65.459999  3.544600e+06\n",
       "75%        97.669998      98.470001      96.930000  8.996400e+06\n",
       "max    272800.000000  272885.000000  271040.000000  6.166205e+08"
      ]
     },
     "execution_count": 25,
     "metadata": {},
     "output_type": "execute_result"
    }
   ],
   "source": [
    "X.describe()"
   ]
  },
  {
   "cell_type": "code",
   "execution_count": 26,
   "id": "736f4685",
   "metadata": {},
   "outputs": [
    {
     "data": {
      "text/plain": [
       "Text(0, 0.5, 'Closing Price')"
      ]
     },
     "execution_count": 26,
     "metadata": {},
     "output_type": "execute_result"
    },
    {
     "data": {
      "image/png": "[encoded data removed]",
      "text/plain": [
       "<Figure size 1080x1080 with 4 Axes>"
      ]
     },
     "metadata": {
      "needs_background": "light"
     },
     "output_type": "display_data"
    }
   ],
   "source": [
    "plt.figure(figsize=(15,15))\n",
    "plt.subplot(2,2,1)\n",
    "plt.scatter(X[\"Low\"],y)\n",
    "plt.xlabel(\"LOW\")\n",
    "plt.ylabel(\"Closing Price\")\n",
    "\n",
    "plt.subplot(2,2,2)\n",
    "plt.scatter(X[\"High\"],y)\n",
    "plt.xlabel(\"High\")\n",
    "plt.ylabel(\"Closing Price\")\n",
    "\n",
    "plt.subplot(2,2,3)\n",
    "plt.scatter(X[\"Open\"],y)\n",
    "plt.xlabel(\"OPEN\")\n",
    "plt.ylabel(\"Closing Price\")\n",
    "\n",
    "plt.subplot(2,2,4)\n",
    "plt.scatter(X[\"Volume\"],y)\n",
    "plt.xlabel(\"Volume\")\n",
    "plt.ylabel(\"Closing Price\")\n",
    "\n",
    "# plt.subplot(4,1,4)\n",
    "# plt.scatter(X[\"Adj Close\"],y)\n",
    "# plt.xlabel(\"Adj Close\")\n",
    "# plt.ylabel(\"Closing Price\")"
   ]
  },
  {
   "cell_type": "code",
   "execution_count": 27,
   "id": "e8757776",
   "metadata": {},
   "outputs": [
    {
     "data": {
      "text/plain": [
       "Text(0, 0.5, 'Closing Price')"
      ]
     },
     "execution_count": 27,
     "metadata": {},
     "output_type": "execute_result"
    },
    {
     "data": {
      "image/png": "[encoded data removed]",
      "text/plain": [
       "<Figure size 288x144 with 3 Axes>"
      ]
     },
     "metadata": {
      "needs_background": "light"
     },
     "output_type": "display_data"
    }
   ],
   "source": [
    "plt.figure(figsize=(4,2))\n",
    "plt.subplot(3,1,1)\n",
    "plt.plot(X[\"Low\"],y)\n",
    "plt.xlabel(\"LOW\")\n",
    "plt.ylabel(\"Closing Price\")\n",
    "\n",
    "plt.subplot(3,1,2)\n",
    "plt.plot(X[\"High\"],y)\n",
    "plt.xlabel(\"High\")\n",
    "plt.ylabel(\"Closing Price\")\n",
    "\n",
    "plt.subplot(3,1,3)\n",
    "plt.plot(X[\"Open\"],y)\n",
    "plt.xlabel(\"OPEN\")\n",
    "plt.ylabel(\"Closing Price\")\n",
    "\n",
    "# plt.subplot(4,1,4)\n",
    "# plt.plot(X[\"Adj Close\"],y)\n",
    "# plt.xlabel(\"Adj Close\")\n",
    "# plt.ylabel(\"Closing Price\")\n",
    "\n",
    "# plt.subplot(2,2,(1,1))\n",
    "# plt.plot(X[\"Volume\"],y)\n",
    "\n"
   ]
  },
  {
   "cell_type": "code",
   "execution_count": 28,
   "id": "ea6ef5de",
   "metadata": {},
   "outputs": [
    {
     "data": {
      "text/plain": [
       "Text(0, 0.5, 'Closing Price')"
      ]
     },
     "execution_count": 28,
     "metadata": {},
     "output_type": "execute_result"
    },
    {
     "data": {
      "image/png": "[encoded data removed]",
      "text/plain": [
       "<Figure size 1080x576 with 1 Axes>"
      ]
     },
     "metadata": {
      "needs_background": "light"
     },
     "output_type": "display_data"
    }
   ],
   "source": [
    "plt.figure(figsize=(15,8))\n",
    "plt.scatter(X[\"Volume\"],y)\n",
    "plt.xlabel(\"Volume\")\n",
    "plt.ylabel(\"Closing Price\")\n"
   ]
  },
  {
   "cell_type": "code",
   "execution_count": 29,
   "id": "88512667",
   "metadata": {},
   "outputs": [
    {
     "data": {
      "text/html": [
       "<div>\n",
       "<style scoped>\n",
       "    .dataframe tbody tr th:only-of-type {\n",
       "        vertical-align: middle;\n",
       "    }\n",
       "\n",
       "    .dataframe tbody tr th {\n",
       "        vertical-align: top;\n",
       "    }\n",
       "\n",
       "    .dataframe thead th {\n",
       "        text-align: right;\n",
       "    }\n",
       "</style>\n",
       "<table border=\"1\" class=\"dataframe\">\n",
       "  <thead>\n",
       "    <tr style=\"text-align: right;\">\n",
       "      <th></th>\n",
       "      <th>Open</th>\n",
       "      <th>High</th>\n",
       "      <th>Low</th>\n",
       "      <th>Volume</th>\n",
       "    </tr>\n",
       "  </thead>\n",
       "  <tbody>\n",
       "    <tr>\n",
       "      <th>0</th>\n",
       "      <td>26.299999</td>\n",
       "      <td>26.520000</td>\n",
       "      <td>25.959999</td>\n",
       "      <td>32642100</td>\n",
       "    </tr>\n",
       "    <tr>\n",
       "      <th>1</th>\n",
       "      <td>95.550003</td>\n",
       "      <td>95.739998</td>\n",
       "      <td>94.019997</td>\n",
       "      <td>1826300</td>\n",
       "    </tr>\n",
       "    <tr>\n",
       "      <th>2</th>\n",
       "      <td>54.770000</td>\n",
       "      <td>55.360001</td>\n",
       "      <td>54.590000</td>\n",
       "      <td>5656800</td>\n",
       "    </tr>\n",
       "    <tr>\n",
       "      <th>3</th>\n",
       "      <td>125.589996</td>\n",
       "      <td>125.820000</td>\n",
       "      <td>123.660004</td>\n",
       "      <td>4151600</td>\n",
       "    </tr>\n",
       "    <tr>\n",
       "      <th>4</th>\n",
       "      <td>20.709999</td>\n",
       "      <td>20.809999</td>\n",
       "      <td>20.670000</td>\n",
       "      <td>10489800</td>\n",
       "    </tr>\n",
       "    <tr>\n",
       "      <th>...</th>\n",
       "      <td>...</td>\n",
       "      <td>...</td>\n",
       "      <td>...</td>\n",
       "      <td>...</td>\n",
       "    </tr>\n",
       "    <tr>\n",
       "      <th>10855</th>\n",
       "      <td>51.660000</td>\n",
       "      <td>52.919998</td>\n",
       "      <td>49.919998</td>\n",
       "      <td>87000</td>\n",
       "    </tr>\n",
       "    <tr>\n",
       "      <th>10856</th>\n",
       "      <td>39.549999</td>\n",
       "      <td>40.619999</td>\n",
       "      <td>39.189999</td>\n",
       "      <td>35177200</td>\n",
       "    </tr>\n",
       "    <tr>\n",
       "      <th>10857</th>\n",
       "      <td>22.780001</td>\n",
       "      <td>22.900000</td>\n",
       "      <td>22.389999</td>\n",
       "      <td>9404100</td>\n",
       "    </tr>\n",
       "    <tr>\n",
       "      <th>10858</th>\n",
       "      <td>33.750000</td>\n",
       "      <td>34.060001</td>\n",
       "      <td>33.580002</td>\n",
       "      <td>26179000</td>\n",
       "    </tr>\n",
       "    <tr>\n",
       "      <th>10859</th>\n",
       "      <td>91.010002</td>\n",
       "      <td>91.680000</td>\n",
       "      <td>89.970001</td>\n",
       "      <td>4675300</td>\n",
       "    </tr>\n",
       "  </tbody>\n",
       "</table>\n",
       "<p>10860 rows × 4 columns</p>\n",
       "</div>"
      ],
      "text/plain": [
       "             Open        High         Low    Volume\n",
       "0       26.299999   26.520000   25.959999  32642100\n",
       "1       95.550003   95.739998   94.019997   1826300\n",
       "2       54.770000   55.360001   54.590000   5656800\n",
       "3      125.589996  125.820000  123.660004   4151600\n",
       "4       20.709999   20.809999   20.670000  10489800\n",
       "...           ...         ...         ...       ...\n",
       "10855   51.660000   52.919998   49.919998     87000\n",
       "10856   39.549999   40.619999   39.189999  35177200\n",
       "10857   22.780001   22.900000   22.389999   9404100\n",
       "10858   33.750000   34.060001   33.580002  26179000\n",
       "10859   91.010002   91.680000   89.970001   4675300\n",
       "\n",
       "[10860 rows x 4 columns]"
      ]
     },
     "execution_count": 29,
     "metadata": {},
     "output_type": "execute_result"
    }
   ],
   "source": [
    "df_test"
   ]
  },
  {
   "cell_type": "code",
   "execution_count": 30,
   "id": "12c90f42",
   "metadata": {},
   "outputs": [
    {
     "data": {
      "text/plain": [
       "LinearRegression()"
      ]
     },
     "execution_count": 30,
     "metadata": {},
     "output_type": "execute_result"
    }
   ],
   "source": [
    "from sklearn.linear_model import LinearRegression\n",
    "Linear = LinearRegression()\n",
    "Linear.fit(X_train,y_train)"
   ]
  },
  {
   "cell_type": "code",
   "execution_count": null,
   "id": "2c68859a",
   "metadata": {},
   "outputs": [],
   "source": [
    "   "
   ]
  },
  {
   "cell_type": "code",
   "execution_count": 31,
   "id": "71623d1c",
   "metadata": {},
   "outputs": [],
   "source": [
    "y_hat = Linear.predict(X_test)"
   ]
  },
  {
   "cell_type": "code",
   "execution_count": 32,
   "id": "f23862c0",
   "metadata": {},
   "outputs": [],
   "source": [
    "error = np.sum(np.sqrt((y_hat - y_test)**2))/(X_test.shape[0])"
   ]
  },
  {
   "cell_type": "code",
   "execution_count": 33,
   "id": "086d72af",
   "metadata": {},
   "outputs": [
    {
     "data": {
      "text/plain": [
       "4234.895335745264"
      ]
     },
     "execution_count": 33,
     "metadata": {},
     "output_type": "execute_result"
    }
   ],
   "source": [
    "error_squared = np.sum((y_hat - y_test)**2)/(X_test.shape[0])\n",
    "error_squared"
   ]
  },
  {
   "cell_type": "code",
   "execution_count": 34,
   "id": "40123f14",
   "metadata": {},
   "outputs": [
    {
     "data": {
      "text/plain": [
       "5.884667162421888"
      ]
     },
     "execution_count": 34,
     "metadata": {},
     "output_type": "execute_result"
    }
   ],
   "source": [
    "error"
   ]
  },
  {
   "cell_type": "code",
   "execution_count": 35,
   "id": "53adebe7",
   "metadata": {},
   "outputs": [
    {
     "name": "stdout",
     "output_type": "stream",
     "text": [
      "0.0036519629108196995\n"
     ]
    }
   ],
   "source": [
    "from sklearn.metrics import accuracy_score,mean_absolute_percentage_error\n",
    "error_sc = mean_absolute_percentage_error(y_hat,y_test)\n",
    "print(error_sc)"
   ]
  },
  {
   "cell_type": "code",
   "execution_count": 36,
   "id": "44786290",
   "metadata": {},
   "outputs": [],
   "source": [
    "accuracy = 100 - sum(((abs(y_hat - y_test)/y_test)*100))/X_test.shape[0]"
   ]
  },
  {
   "cell_type": "code",
   "execution_count": 37,
   "id": "8891893a",
   "metadata": {},
   "outputs": [
    {
     "data": {
      "text/plain": [
       "99.63511744819286"
      ]
     },
     "execution_count": 37,
     "metadata": {},
     "output_type": "execute_result"
    }
   ],
   "source": [
    "accuracy"
   ]
  },
  {
   "cell_type": "code",
   "execution_count": 38,
   "id": "b667b302",
   "metadata": {},
   "outputs": [],
   "source": [
    "from sklearn.metrics import mean_absolute_error, mean_squared_error, max_error, median_absolute_error, r2_score, explained_variance_score\n",
    "import numpy as np\n",
    "\n",
    "def regression_report(y_true, y_pred):\n",
    "    \n",
    "    error = abs(y_true - y_pred)\n",
    "    percentil = [5,25,50,75,95]\n",
    "    percentil_value = np.percentile(error, percentil)\n",
    "    \n",
    "    metrics = [\n",
    "        ('mean absolute error', mean_absolute_error(y_true, y_pred)),\n",
    "        ('median absolute error', median_absolute_error(y_true, y_pred)),\n",
    "        ('mean squared error', mean_squared_error(y_true, y_pred)),\n",
    "        ('max error', max_error(y_true, y_pred)),\n",
    "        ('r2 score', r2_score(y_true, y_pred)),\n",
    "        ('explained variance score', explained_variance_score(y_true, y_pred)),\n",
    "        ('mean absolute percentage error', mean_absolute_percentage_error(y_true, y_pred)),\n",
    "#         (\"score\")\n",
    "    ]\n",
    "    \n",
    "    print('Metrics for regression:')\n",
    "    for metric_name, metric_value in metrics:\n",
    "        print(f'{metric_name:>30s}: {metric_value: >20.5f}')\n",
    "        \n",
    "    print('\\nPercentiles:')\n",
    "    for p, pv in zip(percentil, percentil_value):\n",
    "        print(f'{p: 25d}: {pv:>20.3f}')\n"
   ]
  },
  {
   "cell_type": "code",
   "execution_count": 39,
   "id": "2a6a6ecb",
   "metadata": {},
   "outputs": [
    {
     "name": "stdout",
     "output_type": "stream",
     "text": [
      "Metrics for regression:\n",
      "           mean absolute error:              5.88467\n",
      "         median absolute error:              0.16087\n",
      "            mean squared error:           4234.89534\n",
      "                     max error:           1958.21474\n",
      "                      r2 score:              0.99999\n",
      "      explained variance score:              0.99999\n",
      "mean absolute percentage error:              0.00365\n",
      "\n",
      "Percentiles:\n",
      "                        5:                0.014\n",
      "                       25:                0.071\n",
      "                       50:                0.161\n",
      "                       75:                0.333\n",
      "                       95:                1.171\n"
     ]
    }
   ],
   "source": [
    "regression_report(y_hat,y_test)"
   ]
  },
  {
   "cell_type": "code",
   "execution_count": 40,
   "id": "53b719ce",
   "metadata": {},
   "outputs": [],
   "source": [
    "def linear(X_train,Y_train,X_test,y_test):\n",
    "\n",
    "    Lr = LinearRegression()\n",
    "    Lr.fit(X_train,y_train)\n",
    "    y_hat = Lr.predict(X_test)\n",
    "#     accuracy = (100 - sum(((abs(y_hat - y_test)/y_test)*100))/X_test.shape[0]) \n",
    "    regression_report(y_hat,y_test)\n",
    "    print(\"Score = \",Lr.score(X_test,y_test)*100)\n",
    "#     print(\"\\nAccuracy = \",accuracy) "
   ]
  },
  {
   "cell_type": "code",
   "execution_count": 41,
   "id": "fb4b3edf",
   "metadata": {},
   "outputs": [
    {
     "name": "stdout",
     "output_type": "stream",
     "text": [
      "Metrics for regression:\n",
      "           mean absolute error:              5.88467\n",
      "         median absolute error:              0.16087\n",
      "            mean squared error:           4234.89534\n",
      "                     max error:           1958.21474\n",
      "                      r2 score:              0.99999\n",
      "      explained variance score:              0.99999\n",
      "mean absolute percentage error:              0.00365\n",
      "\n",
      "Percentiles:\n",
      "                        5:                0.014\n",
      "                       25:                0.071\n",
      "                       50:                0.161\n",
      "                       75:                0.333\n",
      "                       95:                1.171\n",
      "Score =  99.99912850197161\n"
     ]
    }
   ],
   "source": [
    " linear(X_train,y_train,X_test,y_test)"
   ]
  },
  {
   "cell_type": "code",
   "execution_count": 42,
   "id": "50dff5ea",
   "metadata": {},
   "outputs": [
    {
     "data": {
      "text/html": [
       "<div>\n",
       "<style scoped>\n",
       "    .dataframe tbody tr th:only-of-type {\n",
       "        vertical-align: middle;\n",
       "    }\n",
       "\n",
       "    .dataframe tbody tr th {\n",
       "        vertical-align: top;\n",
       "    }\n",
       "\n",
       "    .dataframe thead th {\n",
       "        text-align: right;\n",
       "    }\n",
       "</style>\n",
       "<table border=\"1\" class=\"dataframe\">\n",
       "  <thead>\n",
       "    <tr style=\"text-align: right;\">\n",
       "      <th></th>\n",
       "      <th>Open</th>\n",
       "      <th>High</th>\n",
       "      <th>Low</th>\n",
       "      <th>Volume</th>\n",
       "    </tr>\n",
       "  </thead>\n",
       "  <tbody>\n",
       "    <tr>\n",
       "      <th>0</th>\n",
       "      <td>75.430000</td>\n",
       "      <td>75.910004</td>\n",
       "      <td>75.139999</td>\n",
       "      <td>3436700.0</td>\n",
       "    </tr>\n",
       "    <tr>\n",
       "      <th>1</th>\n",
       "      <td>124.930000</td>\n",
       "      <td>124.940002</td>\n",
       "      <td>124.169998</td>\n",
       "      <td>2366700.0</td>\n",
       "    </tr>\n",
       "    <tr>\n",
       "      <th>2</th>\n",
       "      <td>84.339996</td>\n",
       "      <td>84.370003</td>\n",
       "      <td>82.370003</td>\n",
       "      <td>11338700.0</td>\n",
       "    </tr>\n",
       "    <tr>\n",
       "      <th>3</th>\n",
       "      <td>56.770000</td>\n",
       "      <td>57.150002</td>\n",
       "      <td>56.529999</td>\n",
       "      <td>413300.0</td>\n",
       "    </tr>\n",
       "    <tr>\n",
       "      <th>4</th>\n",
       "      <td>47.419998</td>\n",
       "      <td>48.090000</td>\n",
       "      <td>46.759998</td>\n",
       "      <td>9531100.0</td>\n",
       "    </tr>\n",
       "    <tr>\n",
       "      <th>...</th>\n",
       "      <td>...</td>\n",
       "      <td>...</td>\n",
       "      <td>...</td>\n",
       "      <td>...</td>\n",
       "    </tr>\n",
       "    <tr>\n",
       "      <th>97727</th>\n",
       "      <td>103.650002</td>\n",
       "      <td>103.809998</td>\n",
       "      <td>103.089996</td>\n",
       "      <td>3678200.0</td>\n",
       "    </tr>\n",
       "    <tr>\n",
       "      <th>97728</th>\n",
       "      <td>64.419998</td>\n",
       "      <td>64.730003</td>\n",
       "      <td>64.190002</td>\n",
       "      <td>20273100.0</td>\n",
       "    </tr>\n",
       "    <tr>\n",
       "      <th>97729</th>\n",
       "      <td>581.070007</td>\n",
       "      <td>581.400024</td>\n",
       "      <td>571.070007</td>\n",
       "      <td>3416500.0</td>\n",
       "    </tr>\n",
       "    <tr>\n",
       "      <th>97730</th>\n",
       "      <td>120.650002</td>\n",
       "      <td>120.650002</td>\n",
       "      <td>114.959999</td>\n",
       "      <td>13261700.0</td>\n",
       "    </tr>\n",
       "    <tr>\n",
       "      <th>97731</th>\n",
       "      <td>64.870003</td>\n",
       "      <td>64.959999</td>\n",
       "      <td>64.309998</td>\n",
       "      <td>667000.0</td>\n",
       "    </tr>\n",
       "  </tbody>\n",
       "</table>\n",
       "<p>97729 rows × 4 columns</p>\n",
       "</div>"
      ],
      "text/plain": [
       "             Open        High         Low      Volume\n",
       "0       75.430000   75.910004   75.139999   3436700.0\n",
       "1      124.930000  124.940002  124.169998   2366700.0\n",
       "2       84.339996   84.370003   82.370003  11338700.0\n",
       "3       56.770000   57.150002   56.529999    413300.0\n",
       "4       47.419998   48.090000   46.759998   9531100.0\n",
       "...           ...         ...         ...         ...\n",
       "97727  103.650002  103.809998  103.089996   3678200.0\n",
       "97728   64.419998   64.730003   64.190002  20273100.0\n",
       "97729  581.070007  581.400024  571.070007   3416500.0\n",
       "97730  120.650002  120.650002  114.959999  13261700.0\n",
       "97731   64.870003   64.959999   64.309998    667000.0\n",
       "\n",
       "[97729 rows x 4 columns]"
      ]
     },
     "execution_count": 42,
     "metadata": {},
     "output_type": "execute_result"
    }
   ],
   "source": [
    "X"
   ]
  },
  {
   "cell_type": "code",
   "execution_count": 43,
   "id": "c89ffae8",
   "metadata": {},
   "outputs": [],
   "source": [
    "#Regression with Single Variable\n",
    "X_low = X[[\"Low\",\"High\"]]"
   ]
  },
  {
   "cell_type": "code",
   "execution_count": 44,
   "id": "191d3d3f",
   "metadata": {},
   "outputs": [],
   "source": [
    "# from sklearn.model_selection import train_test_split\n",
    "X_low_train, X_low_test, y_low_train, y_low_test = train_test_split(X_low, y, test_size=0.20,random_state = 42)"
   ]
  },
  {
   "cell_type": "code",
   "execution_count": 45,
   "id": "5bf964f4",
   "metadata": {},
   "outputs": [
    {
     "name": "stdout",
     "output_type": "stream",
     "text": [
      "Metrics for regression:\n",
      "           mean absolute error:              8.13051\n",
      "         median absolute error:              0.19267\n",
      "            mean squared error:           8323.68127\n",
      "                     max error:           2524.28317\n",
      "                      r2 score:              0.99998\n",
      "      explained variance score:              0.99998\n",
      "mean absolute percentage error:              0.00437\n",
      "\n",
      "Percentiles:\n",
      "                        5:                0.016\n",
      "                       25:                0.083\n",
      "                       50:                0.193\n",
      "                       75:                0.405\n",
      "                       95:                1.426\n",
      "Score =  99.99828707176005\n"
     ]
    }
   ],
   "source": [
    "linear(X_low_train,y_low_train,X_low_test,y_low_test)"
   ]
  },
  {
   "cell_type": "code",
   "execution_count": 46,
   "id": "9624b3a3",
   "metadata": {},
   "outputs": [],
   "source": [
    "#Regression with Single Variable\n",
    "X_Open = X[[\"Open\",\"High\"]]"
   ]
  },
  {
   "cell_type": "code",
   "execution_count": 47,
   "id": "c67addf1",
   "metadata": {},
   "outputs": [],
   "source": [
    "# from sklearn.model_selection import train_test_split\n",
    "X_open_train, X_open_test, y_open_train, y_open_test = train_test_split(X_Open, y, test_size=0.20,random_state = 42)"
   ]
  },
  {
   "cell_type": "code",
   "execution_count": 48,
   "id": "3b7f84b8",
   "metadata": {},
   "outputs": [
    {
     "name": "stdout",
     "output_type": "stream",
     "text": [
      "Metrics for regression:\n",
      "           mean absolute error:              8.59413\n",
      "         median absolute error:              0.45207\n",
      "            mean squared error:          10085.55559\n",
      "                     max error:           3652.66077\n",
      "                      r2 score:              0.99998\n",
      "      explained variance score:              0.99998\n",
      "mean absolute percentage error:              0.00920\n",
      "\n",
      "Percentiles:\n",
      "                        5:                0.066\n",
      "                       25:                0.283\n",
      "                       50:                0.452\n",
      "                       75:                0.612\n",
      "                       95:                1.558\n",
      "Score =  99.99792449609431\n"
     ]
    }
   ],
   "source": [
    "linear(X_open_train,y_open_train,X_open_test,y_open_test)"
   ]
  },
  {
   "cell_type": "code",
   "execution_count": 49,
   "id": "969efcc0",
   "metadata": {},
   "outputs": [],
   "source": [
    "from sklearn.metrics import mean_absolute_percentage_error"
   ]
  },
  {
   "cell_type": "code",
   "execution_count": 50,
   "id": "e8f68896",
   "metadata": {},
   "outputs": [],
   "source": [
    "X_3 = X[[\"Open\",\"High\",\"Low\"]]"
   ]
  },
  {
   "cell_type": "code",
   "execution_count": 51,
   "id": "d3ebc579",
   "metadata": {},
   "outputs": [],
   "source": [
    "# from sklearn.model_selection import train_test_split\n",
    "X_open_train, X_open_test, y_open_train, y_open_test = train_test_split(X_3, y, test_size=0.20,random_state = 42)"
   ]
  },
  {
   "cell_type": "code",
   "execution_count": 52,
   "id": "7d8297d1",
   "metadata": {},
   "outputs": [
    {
     "name": "stdout",
     "output_type": "stream",
     "text": [
      "Metrics for regression:\n",
      "           mean absolute error:              5.88444\n",
      "         median absolute error:              0.16086\n",
      "            mean squared error:           4234.89584\n",
      "                     max error:           1958.21532\n",
      "                      r2 score:              0.99999\n",
      "      explained variance score:              0.99999\n",
      "mean absolute percentage error:              0.00364\n",
      "\n",
      "Percentiles:\n",
      "                        5:                0.014\n",
      "                       25:                0.070\n",
      "                       50:                0.161\n",
      "                       75:                0.332\n",
      "                       95:                1.171\n",
      "Score =  99.99912850186864\n"
     ]
    }
   ],
   "source": [
    "linear(X_open_train,y_open_train,X_open_test,y_open_test)"
   ]
  },
  {
   "cell_type": "code",
   "execution_count": 53,
   "id": "f918c386",
   "metadata": {},
   "outputs": [],
   "source": [
    "X_4 = X[[\"Low\",\"Volume\"]]"
   ]
  },
  {
   "cell_type": "code",
   "execution_count": 54,
   "id": "a4cab5b7",
   "metadata": {},
   "outputs": [],
   "source": [
    "# from sklearn.model_selection import train_test_split\n",
    "X_open_train, X_open_test, y_open_train, y_open_test = train_test_split(X_4, y, test_size=0.20,random_state = 42)"
   ]
  },
  {
   "cell_type": "code",
   "execution_count": 55,
   "id": "5e65c1bf",
   "metadata": {},
   "outputs": [
    {
     "name": "stdout",
     "output_type": "stream",
     "text": [
      "Metrics for regression:\n",
      "           mean absolute error:              9.43996\n",
      "         median absolute error:              0.50234\n",
      "            mean squared error:          10934.35806\n",
      "                     max error:           3250.19844\n",
      "                      r2 score:              0.99998\n",
      "      explained variance score:              0.99998\n",
      "mean absolute percentage error:              0.00997\n",
      "\n",
      "Percentiles:\n",
      "                        5:                0.069\n",
      "                       25:                0.302\n",
      "                       50:                0.502\n",
      "                       75:                0.695\n",
      "                       95:                1.544\n",
      "Score =  99.99774982125084\n"
     ]
    }
   ],
   "source": [
    "linear(X_open_train,y_open_train,X_open_test,y_open_test)"
   ]
  },
  {
   "cell_type": "code",
   "execution_count": null,
   "id": "81af41de",
   "metadata": {},
   "outputs": [],
   "source": []
  },
  {
   "cell_type": "code",
   "execution_count": 56,
   "id": "bbed4c07",
   "metadata": {},
   "outputs": [
    {
     "data": {
      "text/html": [
       "<div>\n",
       "<style scoped>\n",
       "    .dataframe tbody tr th:only-of-type {\n",
       "        vertical-align: middle;\n",
       "    }\n",
       "\n",
       "    .dataframe tbody tr th {\n",
       "        vertical-align: top;\n",
       "    }\n",
       "\n",
       "    .dataframe thead th {\n",
       "        text-align: right;\n",
       "    }\n",
       "</style>\n",
       "<table border=\"1\" class=\"dataframe\">\n",
       "  <thead>\n",
       "    <tr style=\"text-align: right;\">\n",
       "      <th></th>\n",
       "      <th>Open</th>\n",
       "      <th>High</th>\n",
       "      <th>Low</th>\n",
       "      <th>Volume</th>\n",
       "    </tr>\n",
       "  </thead>\n",
       "  <tbody>\n",
       "    <tr>\n",
       "      <th>74419</th>\n",
       "      <td>72.070000</td>\n",
       "      <td>72.589996</td>\n",
       "      <td>71.480003</td>\n",
       "      <td>139800.0</td>\n",
       "    </tr>\n",
       "    <tr>\n",
       "      <th>74101</th>\n",
       "      <td>302.600006</td>\n",
       "      <td>305.600006</td>\n",
       "      <td>300.750000</td>\n",
       "      <td>3509900.0</td>\n",
       "    </tr>\n",
       "    <tr>\n",
       "      <th>47249</th>\n",
       "      <td>135.940002</td>\n",
       "      <td>137.190002</td>\n",
       "      <td>135.270004</td>\n",
       "      <td>1221900.0</td>\n",
       "    </tr>\n",
       "    <tr>\n",
       "      <th>29691</th>\n",
       "      <td>70.849998</td>\n",
       "      <td>71.989998</td>\n",
       "      <td>70.320000</td>\n",
       "      <td>1683000.0</td>\n",
       "    </tr>\n",
       "    <tr>\n",
       "      <th>26840</th>\n",
       "      <td>102.199997</td>\n",
       "      <td>102.300003</td>\n",
       "      <td>101.660004</td>\n",
       "      <td>5418100.0</td>\n",
       "    </tr>\n",
       "    <tr>\n",
       "      <th>...</th>\n",
       "      <td>...</td>\n",
       "      <td>...</td>\n",
       "      <td>...</td>\n",
       "      <td>...</td>\n",
       "    </tr>\n",
       "    <tr>\n",
       "      <th>6265</th>\n",
       "      <td>732.010010</td>\n",
       "      <td>737.747009</td>\n",
       "      <td>731.000000</td>\n",
       "      <td>1594900.0</td>\n",
       "    </tr>\n",
       "    <tr>\n",
       "      <th>54888</th>\n",
       "      <td>136.259995</td>\n",
       "      <td>137.429993</td>\n",
       "      <td>136.009995</td>\n",
       "      <td>2505000.0</td>\n",
       "    </tr>\n",
       "    <tr>\n",
       "      <th>76823</th>\n",
       "      <td>98.942810</td>\n",
       "      <td>99.111908</td>\n",
       "      <td>97.908318</td>\n",
       "      <td>2570600.0</td>\n",
       "    </tr>\n",
       "    <tr>\n",
       "      <th>860</th>\n",
       "      <td>76.010002</td>\n",
       "      <td>76.599998</td>\n",
       "      <td>75.639999</td>\n",
       "      <td>3855100.0</td>\n",
       "    </tr>\n",
       "    <tr>\n",
       "      <th>15796</th>\n",
       "      <td>80.440002</td>\n",
       "      <td>80.900002</td>\n",
       "      <td>77.769997</td>\n",
       "      <td>32661900.0</td>\n",
       "    </tr>\n",
       "  </tbody>\n",
       "</table>\n",
       "<p>78183 rows Ã— 4 columns</p>\n",
       "</div>"
      ],
      "text/plain": [
       "             Open        High         Low      Volume\n",
       "74419   72.070000   72.589996   71.480003    139800.0\n",
       "74101  302.600006  305.600006  300.750000   3509900.0\n",
       "47249  135.940002  137.190002  135.270004   1221900.0\n",
       "29691   70.849998   71.989998   70.320000   1683000.0\n",
       "26840  102.199997  102.300003  101.660004   5418100.0\n",
       "...           ...         ...         ...         ...\n",
       "6265   732.010010  737.747009  731.000000   1594900.0\n",
       "54888  136.259995  137.429993  136.009995   2505000.0\n",
       "76823   98.942810   99.111908   97.908318   2570600.0\n",
       "860     76.010002   76.599998   75.639999   3855100.0\n",
       "15796   80.440002   80.900002   77.769997  32661900.0\n",
       "\n",
       "[78183 rows x 4 columns]"
      ]
     },
     "execution_count": 56,
     "metadata": {},
     "output_type": "execute_result"
    }
   ],
   "source": [
    "X_train"
   ]
  },
  {
   "cell_type": "code",
   "execution_count": null,
   "id": "7285e23a",
   "metadata": {},
   "outputs": [],
   "source": []
  },
  {
   "cell_type": "code",
   "execution_count": 57,
   "id": "8e1fd71d",
   "metadata": {},
   "outputs": [],
   "source": [
    "from sklearn.linear_model import LinearRegression\n",
    "from sklearn.svm import SVR\n",
    "from sklearn.tree import DecisionTreeRegressor\n",
    "from sklearn.ensemble  import RandomForestRegressor\n",
    "from sklearn.neighbors import KNeighborsRegressor\n",
    "from sklearn.neural_network import MLPRegressor\n",
    "from sklearn.model_selection import cross_val_score"
   ]
  },
  {
   "cell_type": "code",
   "execution_count": 62,
   "id": "12826d33",
   "metadata": {},
   "outputs": [],
   "source": [
    "def model_fitting_report(model,X,y,X_train,Y_train,X_test,y_test):\n",
    "    \n",
    "    model.fit(X_train,y_train)\n",
    "    y_hat = model.predict(X_test)\n",
    "    regression_report(y_hat,y_test)\n",
    "    print(\"-----------------------------------------------------------------------------------------------------------------\")\n",
    "#     print(\"Accuracy Score = \",np.mean(cross_val_score(model,X,y,cv=5)))\n"
   ]
  },
  {
   "cell_type": "code",
   "execution_count": 130,
   "id": "3bb17bfd",
   "metadata": {},
   "outputs": [],
   "source": [
    "\n",
    "\n",
    "def Regression(X,y):\n",
    "    X_train,X_test,y_train,y_test = train_test_split(X, y, test_size=0.20,random_state = 42)\n",
    "    lr = LinearRegression()\n",
    "    dtr = DecisionTreeRegressor()\n",
    "    rfr = RandomForestRegressor()\n",
    "    knr = KNeighborsRegressor()\n",
    "    NN = MLPRegressor(hidden_layer_sizes=[100,50,15],\n",
    "                     activation=\"tanh\",\n",
    "                     alpha=0.001,\n",
    "                     learning_rate_init=0.01)\n",
    "    svr = SVR()\n",
    "    \n",
    "    print(\"\\nRegression_Report for Linear Regression------------------------------->\\n\")\n",
    "    model_fitting_report(lr, X, y, X_train, y_train, X_test, y_test)\n",
    "    print(\"-----------------------------------------------------------------------------------------------------------------\")\n",
    "    print(\"-----------------------------------------------------------------------------------------------------------------\")\n",
    "    \n",
    "    print(\"\\nRegression_Report for Decision Tree Regression------------------------>\\n\")\n",
    "    model_fitting_report(dtr, X, y, X_train, y_train, X_test, y_test)\n",
    "    print(\"-----------------------------------------------------------------------------------------------------------------\")\n",
    "    print(\"-----------------------------------------------------------------------------------------------------------------\")\n",
    "    \n",
    "    print(\"\\nRegression_Report for Random Forest Regression------------------------>\\n\")\n",
    "    model_fitting_report(rfr, X, y, X_train, y_train, X_test, y_test)\n",
    "    print(\"-----------------------------------------------------------------------------------------------------------------\")\n",
    "    print(\"-----------------------------------------------------------------------------------------------------------------\")\n",
    "    \n",
    "    print(\"\\nRegression_Report for K-Neighbour Regression-------------------------->\\n\")\n",
    "    model_fitting_report(knr, X, y, X_train, y_train, X_test, y_test)\n",
    "    print(\"-----------------------------------------------------------------------------------------------------------------\")\n",
    "    print(\"-----------------------------------------------------------------------------------------------------------------\")\n",
    "    \n",
    "    print(\"\\nRegression_Report for Artificial Neural Networks(NN)------------------>\\n\")\n",
    "    model_fitting_report(NN, X, y, X_train, y_train, X_test, y_test)\n",
    "    print(\"-----------------------------------------------------------------------------------------------------------------\")\n",
    "    print(\"-----------------------------------------------------------------------------------------------------------------\")\n",
    "    \n",
    "\n",
    "    \n",
    "    \n",
    "    \n",
    "    "
   ]
  },
  {
   "cell_type": "code",
   "execution_count": 120,
   "id": "73a5ab37",
   "metadata": {},
   "outputs": [
    {
     "name": "stdout",
     "output_type": "stream",
     "text": [
      "\n",
      "Regression_Report for Linear Regression------------------------------->\n",
      "\n",
      "Metrics for regression:\n",
      "           mean absolute error:              5.88467\n",
      "         median absolute error:              0.16087\n",
      "            mean squared error:           4234.89534\n",
      "                     max error:           1958.21474\n",
      "                      r2 score:              0.99999\n",
      "      explained variance score:              0.99999\n",
      "mean absolute percentage error:              0.00365\n",
      "\n",
      "Percentiles:\n",
      "                        5:                0.014\n",
      "                       25:                0.071\n",
      "                       50:                0.161\n",
      "                       75:                0.333\n",
      "                       95:                1.171\n",
      "-----------------------------------------------------------------------------------------------------------------\n",
      "-----------------------------------------------------------------------------------------------------------------\n",
      "-----------------------------------------------------------------------------------------------------------------\n",
      "\n",
      "Regression_Report for Decision Tree Regression------------------------>\n",
      "\n",
      "Metrics for regression:\n",
      "           mean absolute error:             11.11046\n",
      "         median absolute error:              0.20000\n",
      "            mean squared error:          17559.26479\n",
      "                     max error:           4350.00000\n",
      "                      r2 score:              0.99996\n",
      "      explained variance score:              0.99996\n",
      "mean absolute percentage error:              0.00495\n",
      "\n",
      "Percentiles:\n",
      "                        5:                0.015\n",
      "                       25:                0.080\n",
      "                       50:                0.200\n",
      "                       75:                0.450\n",
      "                       95:                1.750\n",
      "-----------------------------------------------------------------------------------------------------------------\n",
      "-----------------------------------------------------------------------------------------------------------------\n",
      "-----------------------------------------------------------------------------------------------------------------\n",
      "\n",
      "Regression_Report for Random Forest Regression------------------------>\n",
      "\n",
      "Metrics for regression:\n",
      "           mean absolute error:              8.94830\n",
      "         median absolute error:              0.16807\n",
      "            mean squared error:          11136.31239\n",
      "                     max error:           3605.13000\n",
      "                      r2 score:              0.99998\n",
      "      explained variance score:              0.99998\n",
      "mean absolute percentage error:              0.00387\n",
      "\n",
      "Percentiles:\n",
      "                        5:                0.013\n",
      "                       25:                0.071\n",
      "                       50:                0.168\n",
      "                       75:                0.351\n",
      "                       95:                1.351\n",
      "-----------------------------------------------------------------------------------------------------------------\n",
      "-----------------------------------------------------------------------------------------------------------------\n",
      "-----------------------------------------------------------------------------------------------------------------\n",
      "\n",
      "Regression_Report for K-Neighbour Regression-------------------------->\n",
      "\n",
      "Metrics for regression:\n",
      "           mean absolute error:             50.82751\n",
      "         median absolute error:             22.59434\n",
      "            mean squared error:          26604.91483\n",
      "                     max error:           6545.80000\n",
      "                      r2 score:              0.99995\n",
      "      explained variance score:              0.99995\n",
      "mean absolute percentage error:              0.49183\n",
      "\n",
      "Percentiles:\n",
      "                        5:                1.818\n",
      "                       25:               10.113\n",
      "                       50:               22.594\n",
      "                       75:               42.183\n",
      "                       95:              126.405\n",
      "-----------------------------------------------------------------------------------------------------------------\n",
      "-----------------------------------------------------------------------------------------------------------------\n",
      "-----------------------------------------------------------------------------------------------------------------\n"
     ]
    }
   ],
   "source": [
    "Regression(X,y)"
   ]
  },
  {
   "cell_type": "code",
   "execution_count": 70,
   "id": "f84eab08",
   "metadata": {},
   "outputs": [],
   "source": [
    "#Chossing two variable only at a time\n",
    "X1 = X[[\"Open\",\"Low\"]]\n",
    "X2 = X[[\"Open\",\"High\"]]\n",
    "X3 = X[[\"High\",\"Volume\"]]\n",
    "X4 = X[[\"Low\",\"High\"]]"
   ]
  },
  {
   "cell_type": "code",
   "execution_count": 71,
   "id": "e0dd7d81",
   "metadata": {},
   "outputs": [
    {
     "name": "stdout",
     "output_type": "stream",
     "text": [
      "\n",
      "Regression_Report for Linear Regression------------------------------->\n",
      "\n",
      "Metrics for regression:\n",
      "           mean absolute error:                9.285\n",
      "         median absolute error:                0.511\n",
      "            mean squared error:            10592.362\n",
      "                     max error:             3189.882\n",
      "                      r2 score:                1.000\n",
      "      explained variance score:                1.000\n",
      "mean absolute percentage error:                0.010\n",
      "\n",
      "Percentiles:\n",
      "                        5:                0.076\n",
      "                       25:                0.323\n",
      "                       50:                0.511\n",
      "                       75:                0.684\n",
      "                       95:                1.544\n",
      "-----------------------------------------------------------------------------------------------------------------\n",
      "-----------------------------------------------------------------------------------------------------------------\n",
      "-----------------------------------------------------------------------------------------------------------------\n",
      "\n",
      "Regression_Report for Decision Tree Regression------------------------>\n",
      "\n",
      "Metrics for regression:\n",
      "           mean absolute error:               13.348\n",
      "         median absolute error:                0.310\n",
      "            mean squared error:            24498.972\n",
      "                     max error:             4421.000\n",
      "                      r2 score:                1.000\n",
      "      explained variance score:                1.000\n",
      "mean absolute percentage error:                0.007\n",
      "\n",
      "Percentiles:\n",
      "                        5:                0.020\n",
      "                       25:                0.120\n",
      "                       50:                0.310\n",
      "                       75:                0.690\n",
      "                       95:                2.487\n",
      "-----------------------------------------------------------------------------------------------------------------\n",
      "-----------------------------------------------------------------------------------------------------------------\n",
      "-----------------------------------------------------------------------------------------------------------------\n",
      "\n",
      "Regression_Report for Random Forest Regression------------------------>\n",
      "\n",
      "Metrics for regression:\n",
      "           mean absolute error:               11.111\n",
      "         median absolute error:                0.259\n",
      "            mean squared error:            16369.279\n",
      "                     max error:             3924.890\n",
      "                      r2 score:                1.000\n",
      "      explained variance score:                1.000\n",
      "mean absolute percentage error:                0.006\n",
      "\n",
      "Percentiles:\n",
      "                        5:                0.020\n",
      "                       25:                0.111\n",
      "                       50:                0.259\n",
      "                       75:                0.552\n",
      "                       95:                1.987\n",
      "-----------------------------------------------------------------------------------------------------------------\n",
      "-----------------------------------------------------------------------------------------------------------------\n",
      "-----------------------------------------------------------------------------------------------------------------\n",
      "\n",
      "Regression_Report for K-Neighbour Regression-------------------------->\n",
      "\n",
      "Metrics for regression:\n",
      "           mean absolute error:               10.469\n",
      "         median absolute error:                0.255\n",
      "            mean squared error:            14743.151\n",
      "                     max error:             3933.800\n",
      "                      r2 score:                1.000\n",
      "      explained variance score:                1.000\n",
      "mean absolute percentage error:                0.006\n",
      "\n",
      "Percentiles:\n",
      "                        5:                0.020\n",
      "                       25:                0.110\n",
      "                       50:                0.255\n",
      "                       75:                0.539\n",
      "                       95:                1.947\n",
      "-----------------------------------------------------------------------------------------------------------------\n",
      "-----------------------------------------------------------------------------------------------------------------\n",
      "-----------------------------------------------------------------------------------------------------------------\n",
      "\n",
      "Regression_Report for Artificial Neural Networks(NN)------------------>\n",
      "\n"
     ]
    },
    {
     "name": "stderr",
     "output_type": "stream",
     "text": [
      "/home/iiserb/.local/lib/python3.7/site-packages/sklearn/neural_network/_multilayer_perceptron.py:699: UserWarning: Training interrupted by user.\n",
      "  warnings.warn(\"Training interrupted by user.\")\n"
     ]
    },
    {
     "name": "stdout",
     "output_type": "stream",
     "text": [
      "Metrics for regression:\n",
      "           mean absolute error:             4012.356\n",
      "         median absolute error:             1700.944\n",
      "            mean squared error:        486436103.712\n",
      "                     max error:           266774.756\n",
      "                      r2 score: -7407925060713745310804033010663424.000\n",
      "      explained variance score: -7400261245519197412645392072310784.000\n",
      "mean absolute percentage error:                2.273\n",
      "\n",
      "Percentiles:\n",
      "                        5:             1584.679\n",
      "                       25:             1670.104\n",
      "                       50:             1700.944\n",
      "                       75:             1726.014\n",
      "                       95:             1749.094\n",
      "-----------------------------------------------------------------------------------------------------------------\n",
      "-----------------------------------------------------------------------------------------------------------------\n",
      "-----------------------------------------------------------------------------------------------------------------\n"
     ]
    }
   ],
   "source": [
    "Regression(X1,y) # X1 = X[[\"Open\",\"Low\"]]"
   ]
  },
  {
   "cell_type": "code",
   "execution_count": 72,
   "id": "28cee9af",
   "metadata": {},
   "outputs": [
    {
     "name": "stdout",
     "output_type": "stream",
     "text": [
      "\n",
      "Regression_Report for Linear Regression------------------------------->\n",
      "\n",
      "Metrics for regression:\n",
      "           mean absolute error:                8.594\n",
      "         median absolute error:                0.452\n",
      "            mean squared error:            10085.556\n",
      "                     max error:             3652.661\n",
      "                      r2 score:                1.000\n",
      "      explained variance score:                1.000\n",
      "mean absolute percentage error:                0.009\n",
      "\n",
      "Percentiles:\n",
      "                        5:                0.066\n",
      "                       25:                0.283\n",
      "                       50:                0.452\n",
      "                       75:                0.612\n",
      "                       95:                1.558\n",
      "-----------------------------------------------------------------------------------------------------------------\n",
      "-----------------------------------------------------------------------------------------------------------------\n",
      "-----------------------------------------------------------------------------------------------------------------\n",
      "\n",
      "Regression_Report for Decision Tree Regression------------------------>\n",
      "\n",
      "Metrics for regression:\n",
      "           mean absolute error:               13.495\n",
      "         median absolute error:                0.290\n",
      "            mean squared error:            28194.728\n",
      "                     max error:             7554.000\n",
      "                      r2 score:                1.000\n",
      "      explained variance score:                1.000\n",
      "mean absolute percentage error:                0.007\n",
      "\n",
      "Percentiles:\n",
      "                        5:                0.020\n",
      "                       25:                0.110\n",
      "                       50:                0.290\n",
      "                       75:                0.660\n",
      "                       95:                2.500\n",
      "-----------------------------------------------------------------------------------------------------------------\n",
      "-----------------------------------------------------------------------------------------------------------------\n",
      "-----------------------------------------------------------------------------------------------------------------\n",
      "\n",
      "Regression_Report for Random Forest Regression------------------------>\n",
      "\n",
      "Metrics for regression:\n",
      "           mean absolute error:               11.104\n",
      "         median absolute error:                0.252\n",
      "            mean squared error:            17710.519\n",
      "                     max error:             4994.600\n",
      "                      r2 score:                1.000\n",
      "      explained variance score:                1.000\n",
      "mean absolute percentage error:                0.006\n",
      "\n",
      "Percentiles:\n",
      "                        5:                0.021\n",
      "                       25:                0.107\n",
      "                       50:                0.252\n",
      "                       75:                0.536\n",
      "                       95:                2.071\n",
      "-----------------------------------------------------------------------------------------------------------------\n",
      "-----------------------------------------------------------------------------------------------------------------\n",
      "-----------------------------------------------------------------------------------------------------------------\n",
      "\n",
      "Regression_Report for K-Neighbour Regression-------------------------->\n",
      "\n",
      "Metrics for regression:\n",
      "           mean absolute error:               11.017\n",
      "         median absolute error:                0.248\n",
      "            mean squared error:            15809.373\n",
      "                     max error:             3556.000\n",
      "                      r2 score:                1.000\n",
      "      explained variance score:                1.000\n",
      "mean absolute percentage error:                0.006\n",
      "\n",
      "Percentiles:\n",
      "                        5:                0.022\n",
      "                       25:                0.108\n",
      "                       50:                0.248\n",
      "                       75:                0.520\n",
      "                       95:                2.022\n",
      "-----------------------------------------------------------------------------------------------------------------\n",
      "-----------------------------------------------------------------------------------------------------------------\n",
      "-----------------------------------------------------------------------------------------------------------------\n",
      "\n",
      "Regression_Report for Artificial Neural Networks(NN)------------------>\n",
      "\n"
     ]
    },
    {
     "name": "stderr",
     "output_type": "stream",
     "text": [
      "/home/iiserb/.local/lib/python3.7/site-packages/sklearn/neural_network/_multilayer_perceptron.py:699: UserWarning: Training interrupted by user.\n",
      "  warnings.warn(\"Training interrupted by user.\")\n"
     ]
    },
    {
     "name": "stdout",
     "output_type": "stream",
     "text": [
      "Metrics for regression:\n",
      "           mean absolute error:             3306.336\n",
      "         median absolute error:              972.520\n",
      "            mean squared error:        488000198.490\n",
      "                     max error:           267503.185\n",
      "                      r2 score: -2449555126181135684806000454402048.000\n",
      "      explained variance score: -2439177983022565104591202766815232.000\n",
      "mean absolute percentage error:                3.189\n",
      "\n",
      "Percentiles:\n",
      "                        5:              857.203\n",
      "                       25:              941.688\n",
      "                       50:              972.520\n",
      "                       75:              997.585\n",
      "                       95:             1020.665\n",
      "-----------------------------------------------------------------------------------------------------------------\n",
      "-----------------------------------------------------------------------------------------------------------------\n",
      "-----------------------------------------------------------------------------------------------------------------\n"
     ]
    }
   ],
   "source": [
    "Regression(X2,y) # X2 = X[[\"Open\",\"High\"]]"
   ]
  },
  {
   "cell_type": "code",
   "execution_count": 73,
   "id": "e42d6f9e",
   "metadata": {},
   "outputs": [
    {
     "name": "stdout",
     "output_type": "stream",
     "text": [
      "\n",
      "Regression_Report for Linear Regression------------------------------->\n",
      "\n",
      "Metrics for regression:\n",
      "           mean absolute error:                8.923\n",
      "         median absolute error:                0.426\n",
      "            mean squared error:            10754.695\n",
      "                     max error:             3721.953\n",
      "                      r2 score:                1.000\n",
      "      explained variance score:                1.000\n",
      "mean absolute percentage error:                0.009\n",
      "\n",
      "Percentiles:\n",
      "                        5:                0.056\n",
      "                       25:                0.256\n",
      "                       50:                0.426\n",
      "                       75:                0.605\n",
      "                       95:                1.589\n",
      "-----------------------------------------------------------------------------------------------------------------\n",
      "-----------------------------------------------------------------------------------------------------------------\n",
      "-----------------------------------------------------------------------------------------------------------------\n",
      "\n",
      "Regression_Report for Decision Tree Regression------------------------>\n",
      "\n",
      "Metrics for regression:\n",
      "           mean absolute error:               13.404\n",
      "         median absolute error:                0.280\n",
      "            mean squared error:            24736.444\n",
      "                     max error:             5445.000\n",
      "                      r2 score:                1.000\n",
      "      explained variance score:                1.000\n",
      "mean absolute percentage error:                0.007\n",
      "\n",
      "Percentiles:\n",
      "                        5:                0.020\n",
      "                       25:                0.110\n",
      "                       50:                0.280\n",
      "                       75:                0.650\n",
      "                       95:                2.457\n",
      "-----------------------------------------------------------------------------------------------------------------\n",
      "-----------------------------------------------------------------------------------------------------------------\n",
      "-----------------------------------------------------------------------------------------------------------------\n",
      "\n",
      "Regression_Report for Random Forest Regression------------------------>\n",
      "\n"
     ]
    },
    {
     "ename": "KeyboardInterrupt",
     "evalue": "",
     "output_type": "error",
     "traceback": [
      "\u001b[0;31m---------------------------------------------------------------------------\u001b[0m",
      "\u001b[0;31mKeyboardInterrupt\u001b[0m                         Traceback (most recent call last)",
      "\u001b[0;32m<ipython-input-73-a3958a615fd0>\u001b[0m in \u001b[0;36m<module>\u001b[0;34m\u001b[0m\n\u001b[0;32m----> 1\u001b[0;31m \u001b[0mRegression\u001b[0m\u001b[0;34m(\u001b[0m\u001b[0mX3\u001b[0m\u001b[0;34m,\u001b[0m\u001b[0my\u001b[0m\u001b[0;34m)\u001b[0m \u001b[0;31m# X3 = X[[\"High\",\"Volume\"]]\u001b[0m\u001b[0;34m\u001b[0m\u001b[0;34m\u001b[0m\u001b[0m\n\u001b[0m",
      "\u001b[0;32m<ipython-input-68-d23c974dc14d>\u001b[0m in \u001b[0;36mRegression\u001b[0;34m(X, y)\u001b[0m\n\u001b[1;32m     21\u001b[0m \u001b[0;34m\u001b[0m\u001b[0m\n\u001b[1;32m     22\u001b[0m     \u001b[0mprint\u001b[0m\u001b[0;34m(\u001b[0m\u001b[0;34m\"\\nRegression_Report for Random Forest Regression------------------------>\\n\"\u001b[0m\u001b[0;34m)\u001b[0m\u001b[0;34m\u001b[0m\u001b[0;34m\u001b[0m\u001b[0m\n\u001b[0;32m---> 23\u001b[0;31m     \u001b[0mmodel_fitting_report\u001b[0m\u001b[0;34m(\u001b[0m\u001b[0mrfr\u001b[0m\u001b[0;34m,\u001b[0m \u001b[0mX\u001b[0m\u001b[0;34m,\u001b[0m \u001b[0my\u001b[0m\u001b[0;34m,\u001b[0m \u001b[0mX_train\u001b[0m\u001b[0;34m,\u001b[0m \u001b[0my_train\u001b[0m\u001b[0;34m,\u001b[0m \u001b[0mX_test\u001b[0m\u001b[0;34m,\u001b[0m \u001b[0my_test\u001b[0m\u001b[0;34m)\u001b[0m\u001b[0;34m\u001b[0m\u001b[0;34m\u001b[0m\u001b[0m\n\u001b[0m\u001b[1;32m     24\u001b[0m     \u001b[0mprint\u001b[0m\u001b[0;34m(\u001b[0m\u001b[0;34m\"-----------------------------------------------------------------------------------------------------------------\"\u001b[0m\u001b[0;34m)\u001b[0m\u001b[0;34m\u001b[0m\u001b[0;34m\u001b[0m\u001b[0m\n\u001b[1;32m     25\u001b[0m     \u001b[0mprint\u001b[0m\u001b[0;34m(\u001b[0m\u001b[0;34m\"-----------------------------------------------------------------------------------------------------------------\"\u001b[0m\u001b[0;34m)\u001b[0m\u001b[0;34m\u001b[0m\u001b[0;34m\u001b[0m\u001b[0m\n",
      "\u001b[0;32m<ipython-input-62-aa5f8a47d066>\u001b[0m in \u001b[0;36mmodel_fitting_report\u001b[0;34m(model, X, y, X_train, Y_train, X_test, y_test)\u001b[0m\n\u001b[1;32m      1\u001b[0m \u001b[0;32mdef\u001b[0m \u001b[0mmodel_fitting_report\u001b[0m\u001b[0;34m(\u001b[0m\u001b[0mmodel\u001b[0m\u001b[0;34m,\u001b[0m\u001b[0mX\u001b[0m\u001b[0;34m,\u001b[0m\u001b[0my\u001b[0m\u001b[0;34m,\u001b[0m\u001b[0mX_train\u001b[0m\u001b[0;34m,\u001b[0m\u001b[0mY_train\u001b[0m\u001b[0;34m,\u001b[0m\u001b[0mX_test\u001b[0m\u001b[0;34m,\u001b[0m\u001b[0my_test\u001b[0m\u001b[0;34m)\u001b[0m\u001b[0;34m:\u001b[0m\u001b[0;34m\u001b[0m\u001b[0;34m\u001b[0m\u001b[0m\n\u001b[1;32m      2\u001b[0m \u001b[0;34m\u001b[0m\u001b[0m\n\u001b[0;32m----> 3\u001b[0;31m     \u001b[0mmodel\u001b[0m\u001b[0;34m.\u001b[0m\u001b[0mfit\u001b[0m\u001b[0;34m(\u001b[0m\u001b[0mX_train\u001b[0m\u001b[0;34m,\u001b[0m\u001b[0my_train\u001b[0m\u001b[0;34m)\u001b[0m\u001b[0;34m\u001b[0m\u001b[0;34m\u001b[0m\u001b[0m\n\u001b[0m\u001b[1;32m      4\u001b[0m     \u001b[0my_hat\u001b[0m \u001b[0;34m=\u001b[0m \u001b[0mmodel\u001b[0m\u001b[0;34m.\u001b[0m\u001b[0mpredict\u001b[0m\u001b[0;34m(\u001b[0m\u001b[0mX_test\u001b[0m\u001b[0;34m)\u001b[0m\u001b[0;34m\u001b[0m\u001b[0;34m\u001b[0m\u001b[0m\n\u001b[1;32m      5\u001b[0m     \u001b[0mregression_report\u001b[0m\u001b[0;34m(\u001b[0m\u001b[0my_hat\u001b[0m\u001b[0;34m,\u001b[0m\u001b[0my_test\u001b[0m\u001b[0;34m)\u001b[0m\u001b[0;34m\u001b[0m\u001b[0;34m\u001b[0m\u001b[0m\n",
      "\u001b[0;32m~/.local/lib/python3.7/site-packages/sklearn/ensemble/_forest.py\u001b[0m in \u001b[0;36mfit\u001b[0;34m(self, X, y, sample_weight)\u001b[0m\n\u001b[1;32m    465\u001b[0m                     \u001b[0mn_samples_bootstrap\u001b[0m\u001b[0;34m=\u001b[0m\u001b[0mn_samples_bootstrap\u001b[0m\u001b[0;34m,\u001b[0m\u001b[0;34m\u001b[0m\u001b[0;34m\u001b[0m\u001b[0m\n\u001b[1;32m    466\u001b[0m                 )\n\u001b[0;32m--> 467\u001b[0;31m                 \u001b[0;32mfor\u001b[0m \u001b[0mi\u001b[0m\u001b[0;34m,\u001b[0m \u001b[0mt\u001b[0m \u001b[0;32min\u001b[0m \u001b[0menumerate\u001b[0m\u001b[0;34m(\u001b[0m\u001b[0mtrees\u001b[0m\u001b[0;34m)\u001b[0m\u001b[0;34m\u001b[0m\u001b[0;34m\u001b[0m\u001b[0m\n\u001b[0m\u001b[1;32m    468\u001b[0m             )\n\u001b[1;32m    469\u001b[0m \u001b[0;34m\u001b[0m\u001b[0m\n",
      "\u001b[0;32m/opt/conda/lib/python3.7/site-packages/joblib/parallel.py\u001b[0m in \u001b[0;36m__call__\u001b[0;34m(self, iterable)\u001b[0m\n\u001b[1;32m    922\u001b[0m                 \u001b[0mself\u001b[0m\u001b[0;34m.\u001b[0m\u001b[0m_iterating\u001b[0m \u001b[0;34m=\u001b[0m \u001b[0mself\u001b[0m\u001b[0;34m.\u001b[0m\u001b[0m_original_iterator\u001b[0m \u001b[0;32mis\u001b[0m \u001b[0;32mnot\u001b[0m \u001b[0;32mNone\u001b[0m\u001b[0;34m\u001b[0m\u001b[0;34m\u001b[0m\u001b[0m\n\u001b[1;32m    923\u001b[0m \u001b[0;34m\u001b[0m\u001b[0m\n\u001b[0;32m--> 924\u001b[0;31m             \u001b[0;32mwhile\u001b[0m \u001b[0mself\u001b[0m\u001b[0;34m.\u001b[0m\u001b[0mdispatch_one_batch\u001b[0m\u001b[0;34m(\u001b[0m\u001b[0miterator\u001b[0m\u001b[0;34m)\u001b[0m\u001b[0;34m:\u001b[0m\u001b[0;34m\u001b[0m\u001b[0;34m\u001b[0m\u001b[0m\n\u001b[0m\u001b[1;32m    925\u001b[0m                 \u001b[0;32mpass\u001b[0m\u001b[0;34m\u001b[0m\u001b[0;34m\u001b[0m\u001b[0m\n\u001b[1;32m    926\u001b[0m \u001b[0;34m\u001b[0m\u001b[0m\n",
      "\u001b[0;32m/opt/conda/lib/python3.7/site-packages/joblib/parallel.py\u001b[0m in \u001b[0;36mdispatch_one_batch\u001b[0;34m(self, iterator)\u001b[0m\n\u001b[1;32m    757\u001b[0m                 \u001b[0;32mreturn\u001b[0m \u001b[0;32mFalse\u001b[0m\u001b[0;34m\u001b[0m\u001b[0;34m\u001b[0m\u001b[0m\n\u001b[1;32m    758\u001b[0m             \u001b[0;32melse\u001b[0m\u001b[0;34m:\u001b[0m\u001b[0;34m\u001b[0m\u001b[0;34m\u001b[0m\u001b[0m\n\u001b[0;32m--> 759\u001b[0;31m                 \u001b[0mself\u001b[0m\u001b[0;34m.\u001b[0m\u001b[0m_dispatch\u001b[0m\u001b[0;34m(\u001b[0m\u001b[0mtasks\u001b[0m\u001b[0;34m)\u001b[0m\u001b[0;34m\u001b[0m\u001b[0;34m\u001b[0m\u001b[0m\n\u001b[0m\u001b[1;32m    760\u001b[0m                 \u001b[0;32mreturn\u001b[0m \u001b[0;32mTrue\u001b[0m\u001b[0;34m\u001b[0m\u001b[0;34m\u001b[0m\u001b[0m\n\u001b[1;32m    761\u001b[0m \u001b[0;34m\u001b[0m\u001b[0m\n",
      "\u001b[0;32m/opt/conda/lib/python3.7/site-packages/joblib/parallel.py\u001b[0m in \u001b[0;36m_dispatch\u001b[0;34m(self, batch)\u001b[0m\n\u001b[1;32m    714\u001b[0m         \u001b[0;32mwith\u001b[0m \u001b[0mself\u001b[0m\u001b[0;34m.\u001b[0m\u001b[0m_lock\u001b[0m\u001b[0;34m:\u001b[0m\u001b[0;34m\u001b[0m\u001b[0;34m\u001b[0m\u001b[0m\n\u001b[1;32m    715\u001b[0m             \u001b[0mjob_idx\u001b[0m \u001b[0;34m=\u001b[0m \u001b[0mlen\u001b[0m\u001b[0;34m(\u001b[0m\u001b[0mself\u001b[0m\u001b[0;34m.\u001b[0m\u001b[0m_jobs\u001b[0m\u001b[0;34m)\u001b[0m\u001b[0;34m\u001b[0m\u001b[0;34m\u001b[0m\u001b[0m\n\u001b[0;32m--> 716\u001b[0;31m             \u001b[0mjob\u001b[0m \u001b[0;34m=\u001b[0m \u001b[0mself\u001b[0m\u001b[0;34m.\u001b[0m\u001b[0m_backend\u001b[0m\u001b[0;34m.\u001b[0m\u001b[0mapply_async\u001b[0m\u001b[0;34m(\u001b[0m\u001b[0mbatch\u001b[0m\u001b[0;34m,\u001b[0m \u001b[0mcallback\u001b[0m\u001b[0;34m=\u001b[0m\u001b[0mcb\u001b[0m\u001b[0;34m)\u001b[0m\u001b[0;34m\u001b[0m\u001b[0;34m\u001b[0m\u001b[0m\n\u001b[0m\u001b[1;32m    717\u001b[0m             \u001b[0;31m# A job can complete so quickly than its callback is\u001b[0m\u001b[0;34m\u001b[0m\u001b[0;34m\u001b[0m\u001b[0;34m\u001b[0m\u001b[0m\n\u001b[1;32m    718\u001b[0m             \u001b[0;31m# called before we get here, causing self._jobs to\u001b[0m\u001b[0;34m\u001b[0m\u001b[0;34m\u001b[0m\u001b[0;34m\u001b[0m\u001b[0m\n",
      "\u001b[0;32m/opt/conda/lib/python3.7/site-packages/joblib/_parallel_backends.py\u001b[0m in \u001b[0;36mapply_async\u001b[0;34m(self, func, callback)\u001b[0m\n\u001b[1;32m    180\u001b[0m     \u001b[0;32mdef\u001b[0m \u001b[0mapply_async\u001b[0m\u001b[0;34m(\u001b[0m\u001b[0mself\u001b[0m\u001b[0;34m,\u001b[0m \u001b[0mfunc\u001b[0m\u001b[0;34m,\u001b[0m \u001b[0mcallback\u001b[0m\u001b[0;34m=\u001b[0m\u001b[0;32mNone\u001b[0m\u001b[0;34m)\u001b[0m\u001b[0;34m:\u001b[0m\u001b[0;34m\u001b[0m\u001b[0;34m\u001b[0m\u001b[0m\n\u001b[1;32m    181\u001b[0m         \u001b[0;34m\"\"\"Schedule a func to be run\"\"\"\u001b[0m\u001b[0;34m\u001b[0m\u001b[0;34m\u001b[0m\u001b[0m\n\u001b[0;32m--> 182\u001b[0;31m         \u001b[0mresult\u001b[0m \u001b[0;34m=\u001b[0m \u001b[0mImmediateResult\u001b[0m\u001b[0;34m(\u001b[0m\u001b[0mfunc\u001b[0m\u001b[0;34m)\u001b[0m\u001b[0;34m\u001b[0m\u001b[0;34m\u001b[0m\u001b[0m\n\u001b[0m\u001b[1;32m    183\u001b[0m         \u001b[0;32mif\u001b[0m \u001b[0mcallback\u001b[0m\u001b[0;34m:\u001b[0m\u001b[0;34m\u001b[0m\u001b[0;34m\u001b[0m\u001b[0m\n\u001b[1;32m    184\u001b[0m             \u001b[0mcallback\u001b[0m\u001b[0;34m(\u001b[0m\u001b[0mresult\u001b[0m\u001b[0;34m)\u001b[0m\u001b[0;34m\u001b[0m\u001b[0;34m\u001b[0m\u001b[0m\n",
      "\u001b[0;32m/opt/conda/lib/python3.7/site-packages/joblib/_parallel_backends.py\u001b[0m in \u001b[0;36m__init__\u001b[0;34m(self, batch)\u001b[0m\n\u001b[1;32m    547\u001b[0m         \u001b[0;31m# Don't delay the application, to avoid keeping the input\u001b[0m\u001b[0;34m\u001b[0m\u001b[0;34m\u001b[0m\u001b[0;34m\u001b[0m\u001b[0m\n\u001b[1;32m    548\u001b[0m         \u001b[0;31m# arguments in memory\u001b[0m\u001b[0;34m\u001b[0m\u001b[0;34m\u001b[0m\u001b[0;34m\u001b[0m\u001b[0m\n\u001b[0;32m--> 549\u001b[0;31m         \u001b[0mself\u001b[0m\u001b[0;34m.\u001b[0m\u001b[0mresults\u001b[0m \u001b[0;34m=\u001b[0m \u001b[0mbatch\u001b[0m\u001b[0;34m(\u001b[0m\u001b[0;34m)\u001b[0m\u001b[0;34m\u001b[0m\u001b[0;34m\u001b[0m\u001b[0m\n\u001b[0m\u001b[1;32m    550\u001b[0m \u001b[0;34m\u001b[0m\u001b[0m\n\u001b[1;32m    551\u001b[0m     \u001b[0;32mdef\u001b[0m \u001b[0mget\u001b[0m\u001b[0;34m(\u001b[0m\u001b[0mself\u001b[0m\u001b[0;34m)\u001b[0m\u001b[0;34m:\u001b[0m\u001b[0;34m\u001b[0m\u001b[0;34m\u001b[0m\u001b[0m\n",
      "\u001b[0;32m/opt/conda/lib/python3.7/site-packages/joblib/parallel.py\u001b[0m in \u001b[0;36m__call__\u001b[0;34m(self)\u001b[0m\n\u001b[1;32m    223\u001b[0m         \u001b[0;32mwith\u001b[0m \u001b[0mparallel_backend\u001b[0m\u001b[0;34m(\u001b[0m\u001b[0mself\u001b[0m\u001b[0;34m.\u001b[0m\u001b[0m_backend\u001b[0m\u001b[0;34m,\u001b[0m \u001b[0mn_jobs\u001b[0m\u001b[0;34m=\u001b[0m\u001b[0mself\u001b[0m\u001b[0;34m.\u001b[0m\u001b[0m_n_jobs\u001b[0m\u001b[0;34m)\u001b[0m\u001b[0;34m:\u001b[0m\u001b[0;34m\u001b[0m\u001b[0;34m\u001b[0m\u001b[0m\n\u001b[1;32m    224\u001b[0m             return [func(*args, **kwargs)\n\u001b[0;32m--> 225\u001b[0;31m                     for func, args, kwargs in self.items]\n\u001b[0m\u001b[1;32m    226\u001b[0m \u001b[0;34m\u001b[0m\u001b[0m\n\u001b[1;32m    227\u001b[0m     \u001b[0;32mdef\u001b[0m \u001b[0m__len__\u001b[0m\u001b[0;34m(\u001b[0m\u001b[0mself\u001b[0m\u001b[0;34m)\u001b[0m\u001b[0;34m:\u001b[0m\u001b[0;34m\u001b[0m\u001b[0;34m\u001b[0m\u001b[0m\n",
      "\u001b[0;32m/opt/conda/lib/python3.7/site-packages/joblib/parallel.py\u001b[0m in \u001b[0;36m<listcomp>\u001b[0;34m(.0)\u001b[0m\n\u001b[1;32m    223\u001b[0m         \u001b[0;32mwith\u001b[0m \u001b[0mparallel_backend\u001b[0m\u001b[0;34m(\u001b[0m\u001b[0mself\u001b[0m\u001b[0;34m.\u001b[0m\u001b[0m_backend\u001b[0m\u001b[0;34m,\u001b[0m \u001b[0mn_jobs\u001b[0m\u001b[0;34m=\u001b[0m\u001b[0mself\u001b[0m\u001b[0;34m.\u001b[0m\u001b[0m_n_jobs\u001b[0m\u001b[0;34m)\u001b[0m\u001b[0;34m:\u001b[0m\u001b[0;34m\u001b[0m\u001b[0;34m\u001b[0m\u001b[0m\n\u001b[1;32m    224\u001b[0m             return [func(*args, **kwargs)\n\u001b[0;32m--> 225\u001b[0;31m                     for func, args, kwargs in self.items]\n\u001b[0m\u001b[1;32m    226\u001b[0m \u001b[0;34m\u001b[0m\u001b[0m\n\u001b[1;32m    227\u001b[0m     \u001b[0;32mdef\u001b[0m \u001b[0m__len__\u001b[0m\u001b[0;34m(\u001b[0m\u001b[0mself\u001b[0m\u001b[0;34m)\u001b[0m\u001b[0;34m:\u001b[0m\u001b[0;34m\u001b[0m\u001b[0;34m\u001b[0m\u001b[0m\n",
      "\u001b[0;32m~/.local/lib/python3.7/site-packages/sklearn/utils/fixes.py\u001b[0m in \u001b[0;36m__call__\u001b[0;34m(self, *args, **kwargs)\u001b[0m\n\u001b[1;32m    214\u001b[0m     \u001b[0;32mdef\u001b[0m \u001b[0m__call__\u001b[0m\u001b[0;34m(\u001b[0m\u001b[0mself\u001b[0m\u001b[0;34m,\u001b[0m \u001b[0;34m*\u001b[0m\u001b[0margs\u001b[0m\u001b[0;34m,\u001b[0m \u001b[0;34m**\u001b[0m\u001b[0mkwargs\u001b[0m\u001b[0;34m)\u001b[0m\u001b[0;34m:\u001b[0m\u001b[0;34m\u001b[0m\u001b[0;34m\u001b[0m\u001b[0m\n\u001b[1;32m    215\u001b[0m         \u001b[0;32mwith\u001b[0m \u001b[0mconfig_context\u001b[0m\u001b[0;34m(\u001b[0m\u001b[0;34m**\u001b[0m\u001b[0mself\u001b[0m\u001b[0;34m.\u001b[0m\u001b[0mconfig\u001b[0m\u001b[0;34m)\u001b[0m\u001b[0;34m:\u001b[0m\u001b[0;34m\u001b[0m\u001b[0;34m\u001b[0m\u001b[0m\n\u001b[0;32m--> 216\u001b[0;31m             \u001b[0;32mreturn\u001b[0m \u001b[0mself\u001b[0m\u001b[0;34m.\u001b[0m\u001b[0mfunction\u001b[0m\u001b[0;34m(\u001b[0m\u001b[0;34m*\u001b[0m\u001b[0margs\u001b[0m\u001b[0;34m,\u001b[0m \u001b[0;34m**\u001b[0m\u001b[0mkwargs\u001b[0m\u001b[0;34m)\u001b[0m\u001b[0;34m\u001b[0m\u001b[0;34m\u001b[0m\u001b[0m\n\u001b[0m\u001b[1;32m    217\u001b[0m \u001b[0;34m\u001b[0m\u001b[0m\n\u001b[1;32m    218\u001b[0m \u001b[0;34m\u001b[0m\u001b[0m\n",
      "\u001b[0;32m~/.local/lib/python3.7/site-packages/sklearn/ensemble/_forest.py\u001b[0m in \u001b[0;36m_parallel_build_trees\u001b[0;34m(tree, forest, X, y, sample_weight, tree_idx, n_trees, verbose, class_weight, n_samples_bootstrap)\u001b[0m\n\u001b[1;32m    183\u001b[0m             \u001b[0mcurr_sample_weight\u001b[0m \u001b[0;34m*=\u001b[0m \u001b[0mcompute_sample_weight\u001b[0m\u001b[0;34m(\u001b[0m\u001b[0;34m\"balanced\"\u001b[0m\u001b[0;34m,\u001b[0m \u001b[0my\u001b[0m\u001b[0;34m,\u001b[0m \u001b[0mindices\u001b[0m\u001b[0;34m=\u001b[0m\u001b[0mindices\u001b[0m\u001b[0;34m)\u001b[0m\u001b[0;34m\u001b[0m\u001b[0;34m\u001b[0m\u001b[0m\n\u001b[1;32m    184\u001b[0m \u001b[0;34m\u001b[0m\u001b[0m\n\u001b[0;32m--> 185\u001b[0;31m         \u001b[0mtree\u001b[0m\u001b[0;34m.\u001b[0m\u001b[0mfit\u001b[0m\u001b[0;34m(\u001b[0m\u001b[0mX\u001b[0m\u001b[0;34m,\u001b[0m \u001b[0my\u001b[0m\u001b[0;34m,\u001b[0m \u001b[0msample_weight\u001b[0m\u001b[0;34m=\u001b[0m\u001b[0mcurr_sample_weight\u001b[0m\u001b[0;34m,\u001b[0m \u001b[0mcheck_input\u001b[0m\u001b[0;34m=\u001b[0m\u001b[0;32mFalse\u001b[0m\u001b[0;34m)\u001b[0m\u001b[0;34m\u001b[0m\u001b[0;34m\u001b[0m\u001b[0m\n\u001b[0m\u001b[1;32m    186\u001b[0m     \u001b[0;32melse\u001b[0m\u001b[0;34m:\u001b[0m\u001b[0;34m\u001b[0m\u001b[0;34m\u001b[0m\u001b[0m\n\u001b[1;32m    187\u001b[0m         \u001b[0mtree\u001b[0m\u001b[0;34m.\u001b[0m\u001b[0mfit\u001b[0m\u001b[0;34m(\u001b[0m\u001b[0mX\u001b[0m\u001b[0;34m,\u001b[0m \u001b[0my\u001b[0m\u001b[0;34m,\u001b[0m \u001b[0msample_weight\u001b[0m\u001b[0;34m=\u001b[0m\u001b[0msample_weight\u001b[0m\u001b[0;34m,\u001b[0m \u001b[0mcheck_input\u001b[0m\u001b[0;34m=\u001b[0m\u001b[0;32mFalse\u001b[0m\u001b[0;34m)\u001b[0m\u001b[0;34m\u001b[0m\u001b[0;34m\u001b[0m\u001b[0m\n",
      "\u001b[0;32m~/.local/lib/python3.7/site-packages/sklearn/tree/_classes.py\u001b[0m in \u001b[0;36mfit\u001b[0;34m(self, X, y, sample_weight, check_input, X_idx_sorted)\u001b[0m\n\u001b[1;32m   1318\u001b[0m             \u001b[0msample_weight\u001b[0m\u001b[0;34m=\u001b[0m\u001b[0msample_weight\u001b[0m\u001b[0;34m,\u001b[0m\u001b[0;34m\u001b[0m\u001b[0;34m\u001b[0m\u001b[0m\n\u001b[1;32m   1319\u001b[0m             \u001b[0mcheck_input\u001b[0m\u001b[0;34m=\u001b[0m\u001b[0mcheck_input\u001b[0m\u001b[0;34m,\u001b[0m\u001b[0;34m\u001b[0m\u001b[0;34m\u001b[0m\u001b[0m\n\u001b[0;32m-> 1320\u001b[0;31m             \u001b[0mX_idx_sorted\u001b[0m\u001b[0;34m=\u001b[0m\u001b[0mX_idx_sorted\u001b[0m\u001b[0;34m,\u001b[0m\u001b[0;34m\u001b[0m\u001b[0;34m\u001b[0m\u001b[0m\n\u001b[0m\u001b[1;32m   1321\u001b[0m         )\n\u001b[1;32m   1322\u001b[0m         \u001b[0;32mreturn\u001b[0m \u001b[0mself\u001b[0m\u001b[0;34m\u001b[0m\u001b[0;34m\u001b[0m\u001b[0m\n",
      "\u001b[0;32m~/.local/lib/python3.7/site-packages/sklearn/tree/_classes.py\u001b[0m in \u001b[0;36mfit\u001b[0;34m(self, X, y, sample_weight, check_input, X_idx_sorted)\u001b[0m\n\u001b[1;32m    418\u001b[0m             )\n\u001b[1;32m    419\u001b[0m \u001b[0;34m\u001b[0m\u001b[0m\n\u001b[0;32m--> 420\u001b[0;31m         \u001b[0mbuilder\u001b[0m\u001b[0;34m.\u001b[0m\u001b[0mbuild\u001b[0m\u001b[0;34m(\u001b[0m\u001b[0mself\u001b[0m\u001b[0;34m.\u001b[0m\u001b[0mtree_\u001b[0m\u001b[0;34m,\u001b[0m \u001b[0mX\u001b[0m\u001b[0;34m,\u001b[0m \u001b[0my\u001b[0m\u001b[0;34m,\u001b[0m \u001b[0msample_weight\u001b[0m\u001b[0;34m)\u001b[0m\u001b[0;34m\u001b[0m\u001b[0;34m\u001b[0m\u001b[0m\n\u001b[0m\u001b[1;32m    421\u001b[0m \u001b[0;34m\u001b[0m\u001b[0m\n\u001b[1;32m    422\u001b[0m         \u001b[0;32mif\u001b[0m \u001b[0mself\u001b[0m\u001b[0;34m.\u001b[0m\u001b[0mn_outputs_\u001b[0m \u001b[0;34m==\u001b[0m \u001b[0;36m1\u001b[0m \u001b[0;32mand\u001b[0m \u001b[0mis_classifier\u001b[0m\u001b[0;34m(\u001b[0m\u001b[0mself\u001b[0m\u001b[0;34m)\u001b[0m\u001b[0;34m:\u001b[0m\u001b[0;34m\u001b[0m\u001b[0;34m\u001b[0m\u001b[0m\n",
      "\u001b[0;31mKeyboardInterrupt\u001b[0m: "
     ]
    }
   ],
   "source": [
    "Regression(X3,y) # X3 = X[[\"High\",\"Volume\"]]"
   ]
  },
  {
   "cell_type": "code",
   "execution_count": null,
   "id": "c5b94033",
   "metadata": {},
   "outputs": [],
   "source": [
    "Regression(X4,y) # X4 = X[[\"Low\",\"High\"]]"
   ]
  },
  {
   "cell_type": "code",
   "execution_count": null,
   "id": "82783230",
   "metadata": {},
   "outputs": [],
   "source": [
    "\n",
    "\n",
    "\n",
    "\n"
   ]
  },
  {
   "cell_type": "code",
   "execution_count": null,
   "id": "a0d1c1e6",
   "metadata": {},
   "outputs": [],
   "source": []
  },
  {
   "cell_type": "code",
   "execution_count": null,
   "id": "6e521803",
   "metadata": {},
   "outputs": [],
   "source": [
    "rgg = Stock_Regression(rgg_opt=\"lr\", selected_features=None)\n",
    "rgg.regression()"
   ]
  },
  {
   "cell_type": "code",
   "execution_count": null,
   "id": "132aa1fb",
   "metadata": {},
   "outputs": [],
   "source": []
  },
  {
   "cell_type": "code",
   "execution_count": null,
   "id": "2bff5bfe",
   "metadata": {},
   "outputs": [],
   "source": []
  },
  {
   "cell_type": "code",
   "execution_count": null,
   "id": "e2e0bfb6",
   "metadata": {},
   "outputs": [],
   "source": []
  },
  {
   "cell_type": "code",
   "execution_count": 56,
   "id": "acb7bc63",
   "metadata": {},
   "outputs": [
    {
     "name": "stderr",
     "output_type": "stream",
     "text": [
      "c:\\users\\sashu\\appdata\\local\\programs\\python\\python39\\lib\\site-packages\\seaborn\\_decorators.py:36: FutureWarning: Pass the following variables as keyword args: x, y. From version 0.12, the only valid positional argument will be `data`, and passing other arguments without an explicit keyword will result in an error or misinterpretation.\n",
      "  warnings.warn(\n"
     ]
    },
    {
     "data": {
      "image/png": "[encoded data removed]",
      "text/plain": [
       "<Figure size 1080x360 with 1 Axes>"
      ]
     },
     "metadata": {
      "needs_background": "light"
     },
     "output_type": "display_data"
    }
   ],
   "source": [
    "models = ['Linear', 'DecisionTree', 'RandomForest', 'K-Neighbour', 'ANN']\n",
    "error = [5.885,\n",
    "11.238,\n",
    "8.978,\n",
    "50.828,\n",
    "108.657,]\n",
    "# Visualizing the accuracy of all the classification models applied\n",
    "plt.figure(figsize=(15,5))\n",
    "plt.title('Mean_Absolute_Error of different models for all features', fontsize=15)\n",
    "plt.yticks(np.arange(0, 2, 0.1))\n",
    "plt.ylabel(\"Mean_Absolute_Error\")\n",
    "plt.xlabel(\"Models\")\n",
    "sns.barplot(models, error)\n",
    "plt.show()"
   ]
  },
  {
   "cell_type": "code",
   "execution_count": 57,
   "id": "dbed0102",
   "metadata": {},
   "outputs": [
    {
     "name": "stderr",
     "output_type": "stream",
     "text": [
      "c:\\users\\sashu\\appdata\\local\\programs\\python\\python39\\lib\\site-packages\\seaborn\\_decorators.py:36: FutureWarning: Pass the following variables as keyword args: x, y. From version 0.12, the only valid positional argument will be `data`, and passing other arguments without an explicit keyword will result in an error or misinterpretation.\n",
      "  warnings.warn(\n"
     ]
    },
    {
     "data": {
      "image/png": "[encoded data removed]",
      "text/plain": [
       "<Figure size 1080x360 with 1 Axes>"
      ]
     },
     "metadata": {
      "needs_background": "light"
     },
     "output_type": "display_data"
    }
   ],
   "source": [
    "models = ['Linear', 'DecisionTree', 'RandomForest', 'K-Neighbour', 'ANN']\n",
    "error = [9.285,\n",
    "13.671,\n",
    "11.059,\n",
    "10.469,\n",
    "13.23,]\n",
    "# Visualizing the accuracy of all the classification models applied\n",
    "plt.figure(figsize=(15,5))\n",
    "plt.title('Mean_Absolute_Error of different models for [\"Open\",\"Low\"]', fontsize=15)\n",
    "plt.yticks(np.arange(0, 2, 0.1))\n",
    "plt.ylabel(\"Mean_Absolute_Error\")\n",
    "plt.xlabel(\"Models\")\n",
    "sns.barplot(models, error)\n",
    "plt.show()"
   ]
  },
  {
   "cell_type": "code",
   "execution_count": 58,
   "id": "a13ba000",
   "metadata": {},
   "outputs": [
    {
     "name": "stderr",
     "output_type": "stream",
     "text": [
      "c:\\users\\sashu\\appdata\\local\\programs\\python\\python39\\lib\\site-packages\\seaborn\\_decorators.py:36: FutureWarning: Pass the following variables as keyword args: x, y. From version 0.12, the only valid positional argument will be `data`, and passing other arguments without an explicit keyword will result in an error or misinterpretation.\n",
      "  warnings.warn(\n"
     ]
    },
    {
     "data": {
      "image/png": "[encoded data removed]",
      "text/plain": [
       "<Figure size 1080x360 with 1 Axes>"
      ]
     },
     "metadata": {
      "needs_background": "light"
     },
     "output_type": "display_data"
    }
   ],
   "source": [
    "models = ['Linear', 'DecisionTree', 'RandomForest', 'K-Neighbour', 'ANN']\n",
    "error = [8.594,\n",
    "12.891,\n",
    "11.058,\n",
    "11.017,\n",
    "22.749,]\n",
    "# Visualizing the accuracy of all the classification models applied\n",
    "plt.figure(figsize=(15,5))\n",
    "plt.title('Mean_Absolute_Error of different models for [\"Open\",\"High\"]', fontsize=15)\n",
    "plt.yticks(np.arange(0, 2, 0.1))\n",
    "plt.ylabel(\"Mean_Absolute_Error\")\n",
    "plt.xlabel(\"Models\")\n",
    "sns.barplot(models, error)\n",
    "plt.show()"
   ]
  },
  {
   "cell_type": "code",
   "execution_count": 60,
   "id": "77ccdc91",
   "metadata": {},
   "outputs": [
    {
     "name": "stderr",
     "output_type": "stream",
     "text": [
      "c:\\users\\sashu\\appdata\\local\\programs\\python\\python39\\lib\\site-packages\\seaborn\\_decorators.py:36: FutureWarning: Pass the following variables as keyword args: x, y. From version 0.12, the only valid positional argument will be `data`, and passing other arguments without an explicit keyword will result in an error or misinterpretation.\n",
      "  warnings.warn(\n"
     ]
    },
    {
     "data": {
      "text/plain": [
       "<AxesSubplot:title={'center':'Mean_Absolute_Error of different models for [\"High\",\"Volume\"]'}, xlabel='Models', ylabel='Mean_Absolute_Error'>"
      ]
     },
     "execution_count": 60,
     "metadata": {},
     "output_type": "execute_result"
    },
    {
     "data": {
      "image/png": "[encoded data removed]",
      "text/plain": [
       "<Figure size 1080x360 with 1 Axes>"
      ]
     },
     "metadata": {
      "needs_background": "light"
     },
     "output_type": "display_data"
    }
   ],
   "source": [
    "models = ['Linear', 'DecisionTree', 'RandomForest', 'K-Neighbour', 'ANN']\n",
    "error = [5.885,\n",
    "11.238,\n",
    "8.978,\n",
    "50.828,\n",
    "108.657,]\n",
    "# Visualizing the accuracy of all the classification models applied\n",
    "plt.figure(figsize=(15,5))\n",
    "plt.title('Mean_Absolute_Error of different models for [\"High\",\"Volume\"]', fontsize=15)\n",
    "plt.yticks(np.arange(0, 2, 0.1))\n",
    "plt.ylabel(\"Mean_Absolute_Error\")\n",
    "plt.xlabel(\"Models\")\n",
    "sns.barplot(models, error)"
   ]
  },
  {
   "cell_type": "code",
   "execution_count": 61,
   "id": "9351f82a",
   "metadata": {},
   "outputs": [
    {
     "name": "stderr",
     "output_type": "stream",
     "text": [
      "c:\\users\\sashu\\appdata\\local\\programs\\python\\python39\\lib\\site-packages\\seaborn\\_decorators.py:36: FutureWarning: Pass the following variables as keyword args: x, y. From version 0.12, the only valid positional argument will be `data`, and passing other arguments without an explicit keyword will result in an error or misinterpretation.\n",
      "  warnings.warn(\n"
     ]
    },
    {
     "data": {
      "image/png": "[encoded data removed]",
      "text/plain": [
       "<Figure size 1080x360 with 1 Axes>"
      ]
     },
     "metadata": {
      "needs_background": "light"
     },
     "output_type": "display_data"
    }
   ],
   "source": [
    "models = ['Linear', 'DecisionTree', 'RandomForest', 'K-Neighbour', 'ANN']\n",
    "error = [5.885,\n",
    "11.238,\n",
    "8.978,\n",
    "50.828,\n",
    "108.657,]\n",
    "# Visualizing the accuracy of all the classification models applied\n",
    "plt.figure(figsize=(15,5))\n",
    "plt.title('Mean_Absolute_Error of different models for [\"Low\",\"High\"]', fontsize=15)\n",
    "plt.yticks(np.arange(0, 2, 0.1))\n",
    "plt.ylabel(\"Mean_Absolute_Error\")\n",
    "plt.xlabel(\"Models\")\n",
    "sns.barplot(models, error)\n",
    "plt.show()"
   ]
  },
  {
   "cell_type": "code",
   "execution_count": null,
   "id": "16407a2c",
   "metadata": {},
   "outputs": [],
   "source": []
  },
  {
   "cell_type": "code",
   "execution_count": null,
   "id": "d613bceb",
   "metadata": {},
   "outputs": [],
   "source": []
  },
  {
   "cell_type": "code",
   "execution_count": 80,
   "id": "2d3038e6",
   "metadata": {},
   "outputs": [
    {
     "data": {
      "text/html": [
       "<div>\n",
       "<style scoped>\n",
       "    .dataframe tbody tr th:only-of-type {\n",
       "        vertical-align: middle;\n",
       "    }\n",
       "\n",
       "    .dataframe tbody tr th {\n",
       "        vertical-align: top;\n",
       "    }\n",
       "\n",
       "    .dataframe thead th {\n",
       "        text-align: right;\n",
       "    }\n",
       "</style>\n",
       "<table border=\"1\" class=\"dataframe\">\n",
       "  <thead>\n",
       "    <tr style=\"text-align: right;\">\n",
       "      <th></th>\n",
       "      <th>Open</th>\n",
       "      <th>High</th>\n",
       "      <th>Low</th>\n",
       "      <th>Volume</th>\n",
       "    </tr>\n",
       "  </thead>\n",
       "  <tbody>\n",
       "    <tr>\n",
       "      <th>0</th>\n",
       "      <td>75.430000</td>\n",
       "      <td>75.910004</td>\n",
       "      <td>75.139999</td>\n",
       "      <td>3436700.0</td>\n",
       "    </tr>\n",
       "    <tr>\n",
       "      <th>1</th>\n",
       "      <td>124.930000</td>\n",
       "      <td>124.940002</td>\n",
       "      <td>124.169998</td>\n",
       "      <td>2366700.0</td>\n",
       "    </tr>\n",
       "    <tr>\n",
       "      <th>2</th>\n",
       "      <td>84.339996</td>\n",
       "      <td>84.370003</td>\n",
       "      <td>82.370003</td>\n",
       "      <td>11338700.0</td>\n",
       "    </tr>\n",
       "    <tr>\n",
       "      <th>3</th>\n",
       "      <td>56.770000</td>\n",
       "      <td>57.150002</td>\n",
       "      <td>56.529999</td>\n",
       "      <td>413300.0</td>\n",
       "    </tr>\n",
       "    <tr>\n",
       "      <th>4</th>\n",
       "      <td>47.419998</td>\n",
       "      <td>48.090000</td>\n",
       "      <td>46.759998</td>\n",
       "      <td>9531100.0</td>\n",
       "    </tr>\n",
       "    <tr>\n",
       "      <th>...</th>\n",
       "      <td>...</td>\n",
       "      <td>...</td>\n",
       "      <td>...</td>\n",
       "      <td>...</td>\n",
       "    </tr>\n",
       "    <tr>\n",
       "      <th>97727</th>\n",
       "      <td>103.650002</td>\n",
       "      <td>103.809998</td>\n",
       "      <td>103.089996</td>\n",
       "      <td>3678200.0</td>\n",
       "    </tr>\n",
       "    <tr>\n",
       "      <th>97728</th>\n",
       "      <td>64.419998</td>\n",
       "      <td>64.730003</td>\n",
       "      <td>64.190002</td>\n",
       "      <td>20273100.0</td>\n",
       "    </tr>\n",
       "    <tr>\n",
       "      <th>97729</th>\n",
       "      <td>581.070007</td>\n",
       "      <td>581.400024</td>\n",
       "      <td>571.070007</td>\n",
       "      <td>3416500.0</td>\n",
       "    </tr>\n",
       "    <tr>\n",
       "      <th>97730</th>\n",
       "      <td>120.650002</td>\n",
       "      <td>120.650002</td>\n",
       "      <td>114.959999</td>\n",
       "      <td>13261700.0</td>\n",
       "    </tr>\n",
       "    <tr>\n",
       "      <th>97731</th>\n",
       "      <td>64.870003</td>\n",
       "      <td>64.959999</td>\n",
       "      <td>64.309998</td>\n",
       "      <td>667000.0</td>\n",
       "    </tr>\n",
       "  </tbody>\n",
       "</table>\n",
       "<p>97729 rows Ã— 4 columns</p>\n",
       "</div>"
      ],
      "text/plain": [
       "             Open        High         Low      Volume\n",
       "0       75.430000   75.910004   75.139999   3436700.0\n",
       "1      124.930000  124.940002  124.169998   2366700.0\n",
       "2       84.339996   84.370003   82.370003  11338700.0\n",
       "3       56.770000   57.150002   56.529999    413300.0\n",
       "4       47.419998   48.090000   46.759998   9531100.0\n",
       "...           ...         ...         ...         ...\n",
       "97727  103.650002  103.809998  103.089996   3678200.0\n",
       "97728   64.419998   64.730003   64.190002  20273100.0\n",
       "97729  581.070007  581.400024  571.070007   3416500.0\n",
       "97730  120.650002  120.650002  114.959999  13261700.0\n",
       "97731   64.870003   64.959999   64.309998    667000.0\n",
       "\n",
       "[97729 rows x 4 columns]"
      ]
     },
     "execution_count": 80,
     "metadata": {},
     "output_type": "execute_result"
    }
   ],
   "source": [
    "X"
   ]
  },
  {
   "cell_type": "code",
   "execution_count": 121,
   "id": "6153c7d8",
   "metadata": {},
   "outputs": [],
   "source": [
    "D = X.iloc[:,:3]"
   ]
  },
  {
   "cell_type": "code",
   "execution_count": 123,
   "id": "e70f9a86",
   "metadata": {},
   "outputs": [
    {
     "data": {
      "text/plain": [
       "array([[ 75.43    ,  75.910004,  75.139999],\n",
       "       [124.93    , 124.940002, 124.169998],\n",
       "       [ 84.339996,  84.370003,  82.370003],\n",
       "       ...,\n",
       "       [581.070007, 581.400024, 571.070007],\n",
       "       [120.650002, 120.650002, 114.959999],\n",
       "       [ 64.870003,  64.959999,  64.309998]])"
      ]
     },
     "execution_count": 123,
     "metadata": {},
     "output_type": "execute_result"
    }
   ],
   "source": [
    "D = np.array(D)\n",
    "D.reshape(len(D),3)"
   ]
  },
  {
   "cell_type": "code",
   "execution_count": 124,
   "id": "f140d63a",
   "metadata": {},
   "outputs": [],
   "source": [
    "D = pd.DataFrame(D)"
   ]
  },
  {
   "cell_type": "code",
   "execution_count": 125,
   "id": "a8a3250f",
   "metadata": {},
   "outputs": [
    {
     "data": {
      "text/plain": [
       "(97729, 3)"
      ]
     },
     "execution_count": 125,
     "metadata": {},
     "output_type": "execute_result"
    }
   ],
   "source": [
    "D.shape"
   ]
  },
  {
   "cell_type": "code",
   "execution_count": 126,
   "id": "870c4b36",
   "metadata": {},
   "outputs": [
    {
     "data": {
      "text/plain": [
       "LinearRegression()"
      ]
     },
     "execution_count": 126,
     "metadata": {},
     "output_type": "execute_result"
    }
   ],
   "source": [
    "L.fit(D,y)"
   ]
  },
  {
   "cell_type": "code",
   "execution_count": 127,
   "id": "ce735137",
   "metadata": {},
   "outputs": [
    {
     "name": "stdout",
     "output_type": "stream",
     "text": [
      "\n",
      "Regression_Report for Linear Regression------------------------------->\n",
      "\n",
      "Metrics for regression:\n",
      "           mean absolute error:              5.88444\n",
      "         median absolute error:              0.16086\n",
      "            mean squared error:           4234.89584\n",
      "                     max error:           1958.21532\n",
      "                      r2 score:              0.99999\n",
      "      explained variance score:              0.99999\n",
      "mean absolute percentage error:              0.00364\n",
      "\n",
      "Percentiles:\n",
      "                        5:                0.014\n",
      "                       25:                0.070\n",
      "                       50:                0.161\n",
      "                       75:                0.332\n",
      "                       95:                1.171\n",
      "-----------------------------------------------------------------------------------------------------------------\n",
      "-----------------------------------------------------------------------------------------------------------------\n",
      "-----------------------------------------------------------------------------------------------------------------\n",
      "\n",
      "Regression_Report for Decision Tree Regression------------------------>\n",
      "\n",
      "Metrics for regression:\n",
      "           mean absolute error:             10.79772\n",
      "         median absolute error:              0.20000\n",
      "            mean squared error:          17245.01611\n",
      "                     max error:           4680.00000\n",
      "                      r2 score:              0.99996\n",
      "      explained variance score:              0.99996\n",
      "mean absolute percentage error:              0.00494\n",
      "\n",
      "Percentiles:\n",
      "                        5:                0.017\n",
      "                       25:                0.080\n",
      "                       50:                0.200\n",
      "                       75:                0.450\n",
      "                       95:                1.720\n",
      "-----------------------------------------------------------------------------------------------------------------\n",
      "-----------------------------------------------------------------------------------------------------------------\n",
      "-----------------------------------------------------------------------------------------------------------------\n",
      "\n",
      "Regression_Report for Random Forest Regression------------------------>\n",
      "\n",
      "Metrics for regression:\n",
      "           mean absolute error:              8.88046\n",
      "         median absolute error:              0.16738\n",
      "            mean squared error:          11140.24234\n",
      "                     max error:           3577.75000\n",
      "                      r2 score:              0.99998\n",
      "      explained variance score:              0.99998\n",
      "mean absolute percentage error:              0.00387\n",
      "\n",
      "Percentiles:\n",
      "                        5:                0.013\n",
      "                       25:                0.070\n",
      "                       50:                0.167\n",
      "                       75:                0.350\n",
      "                       95:                1.360\n",
      "-----------------------------------------------------------------------------------------------------------------\n",
      "-----------------------------------------------------------------------------------------------------------------\n",
      "-----------------------------------------------------------------------------------------------------------------\n",
      "\n",
      "Regression_Report for K-Neighbour Regression-------------------------->\n",
      "\n",
      "Metrics for regression:\n",
      "           mean absolute error:              8.77578\n",
      "         median absolute error:              0.16600\n",
      "            mean squared error:          10307.63196\n",
      "                     max error:           3512.40000\n",
      "                      r2 score:              0.99998\n",
      "      explained variance score:              0.99998\n",
      "mean absolute percentage error:              0.00388\n",
      "\n",
      "Percentiles:\n",
      "                        5:                0.014\n",
      "                       25:                0.072\n",
      "                       50:                0.166\n",
      "                       75:                0.350\n",
      "                       95:                1.318\n",
      "-----------------------------------------------------------------------------------------------------------------\n",
      "-----------------------------------------------------------------------------------------------------------------\n",
      "-----------------------------------------------------------------------------------------------------------------\n"
     ]
    }
   ],
   "source": [
    "Regression(D,y)"
   ]
  },
  {
   "cell_type": "code",
   "execution_count": null,
   "id": "a893dc94",
   "metadata": {},
   "outputs": [],
   "source": []
  },
  {
   "cell_type": "code",
   "execution_count": 129,
   "id": "9737bc14",
   "metadata": {},
   "outputs": [],
   "source": [
    "from sklearn.svm import SVR "
   ]
  },
  {
   "cell_type": "code",
   "execution_count": 131,
   "id": "ab2fb0a4",
   "metadata": {},
   "outputs": [
    {
     "name": "stdout",
     "output_type": "stream",
     "text": [
      "\n",
      "Regression_Report for Linear Regression------------------------------->\n",
      "\n",
      "Metrics for regression:\n",
      "           mean absolute error:           2432.47491\n",
      "         median absolute error:             23.46529\n",
      "            mean squared error:      491725483.49312\n",
      "                     max error:         268472.08624\n",
      "                      r2 score:       -2205583.53512\n",
      "      explained variance score:       -2179565.40233\n",
      "mean absolute percentage error:             35.89380\n",
      "\n",
      "Percentiles:\n",
      "                        5:                1.771\n",
      "                       25:                9.283\n",
      "                       50:               23.465\n",
      "                       75:               44.830\n",
      "                       95:              179.555\n",
      "-----------------------------------------------------------------------------------------------------------------\n",
      "-----------------------------------------------------------------------------------------------------------------\n",
      "-----------------------------------------------------------------------------------------------------------------\n"
     ]
    }
   ],
   "source": [
    "Regression(X,y)\n"
   ]
  },
  {
   "cell_type": "markdown",
   "metadata": {},
   "source": [
    "# Pipe Preparation for HyperParameter Tuning and Training"
   ]
  },
  {
   "cell_type": "markdown",
   "metadata": {},
   "source": [
    "<hr><font color=\"green\"><h1>from file: B_DTR_pipeline-Copy4</h1></font>"
   ]
  },
  {
   "cell_type": "code",
   "execution_count": 1,
   "id": "d8345d63",
   "metadata": {},
   "outputs": [
    {
     "name": "stderr",
     "output_type": "stream",
     "text": [
      "/opt/conda/lib/python3.7/site-packages/statsmodels/tools/_testing.py:19: FutureWarning: pandas.util.testing is deprecated. Use the functions in the public API at pandas.testing instead.\n",
      "  import pandas.util.testing as tm\n"
     ]
    }
   ],
   "source": [
    "import pandas as pd\n",
    "import numpy as np\n",
    "from sklearn.model_selection import train_test_split \n",
    "import matplotlib.pyplot as plt\n",
    "import seaborn as sns\n",
    "\n",
    "\n",
    "from sklearn.metrics import mean_absolute_error, mean_squared_error, max_error, median_absolute_error, r2_score, explained_variance_score\n",
    "from sklearn.metrics import mean_absolute_percentage_error\n",
    "from sklearn.model_selection import train_test_split\n",
    "from sklearn.feature_selection import SelectKBest\n",
    "from sklearn.feature_selection import f_regression,mutual_info_regression\n",
    "from sklearn.linear_model import LinearRegression\n",
    "from sklearn.svm import SVR\n",
    "from sklearn.tree import DecisionTreeRegressor\n",
    "from sklearn.ensemble  import RandomForestRegressor\n",
    "from sklearn.neighbors import KNeighborsRegressor\n",
    "from sklearn.neural_network import MLPRegressor\n",
    "from sklearn.model_selection import cross_val_score\n",
    "from sklearn.model_selection import GridSearchCV,RandomizedSearchCV\n",
    "import warnings\n",
    "warnings.filterwarnings(\"ignore\")"
   ]
  },
  {
   "cell_type": "code",
   "execution_count": 2,
   "id": "b5a02910",
   "metadata": {},
   "outputs": [],
   "source": [
    "class Stock_Regression():\n",
    "    def __init__(self,\n",
    "                 path = \"D:\\\\A_Semester_6\\\\dataScienceAndMachineLearning\\\\Project_Phase_2\\\\\",\n",
    "                 rgg_opt = \"lr\",\n",
    "                 selected_features = None,\n",
    "                ):\n",
    "        self.path = path\n",
    "        self.rgg_opt = rgg_opt\n",
    "        self.selected_features = selected_features\n",
    "        if selected_features == None:\n",
    "            self.no_of_selected_features = [\"Open\", \"High\", \"Low\", \"Volume\"]\n",
    "\n",
    "            # Selection regressor\n",
    "    def regression_pipeline(self):\n",
    "        # Linear Regression\n",
    "        if self.rgg_opt == \"lr\":\n",
    "            print(\"\\n\\t### Training Linear Regression\\t###\\n\")\n",
    "            rgg = LinearRegression(normalize=False, copy_X=True)\n",
    "            rgg_parameters = {\n",
    "                \"normalize\":(True, False),\n",
    "                \"copy_X\":(True, False),\n",
    "            }\n",
    "        \n",
    "        # Decision Tree Regression:\n",
    "        elif self.rgg_opt == \"dtr\":\n",
    "            print(\"\\n\\t### Training the Decision Tree Regressor\\t ###\\n\")\n",
    "            rgg = DecisionTreeRegressor(criterion=\"absolute_error\",splitter=\"best\")\n",
    "            rgg_parameters = {\n",
    "                \"splitter\":(\"best\",\"random\"),\n",
    "#                 \"max_features\":(\"auto\",\"sqrt\",\"log2\"),\n",
    "#                 \"max_depth\":(10,40,45,60),\n",
    "#                 \"max_depth\":(2,4,6,8,10),\n",
    "                \"max_depth\":(9,10,11),\n",
    "                \n",
    "#                 \"ccp_alpha\":(0.009,0.01,0.05,0.1),\n",
    "#                 \"ccp_alpha\":(0.0009,0.002,0.005,0.006,0.009)\n",
    "                \"ccp_alpha\":(0.00009,0.0005,0.0009)\n",
    "            }\n",
    "        \n",
    "        \n",
    "        # Random Forest Regression\n",
    "        elif self.rgg_opt == \"rfr\":\n",
    "            print(\"\\n\\t ### Traing the Random Forest Regressor \\t###\\n\")\n",
    "            rgg = RandomForestRegressor(n_estimators=100, max_features=None)\n",
    "            rgg_parameters = {\n",
    "                \"n_estimators\":(30,50,70,90,100,200,400),\n",
    "                \"max_depth\":(10,20,30,50,100,200),\n",
    "                \"ccp_alpha\":(0.009,0.01,0.05,0.1),\n",
    "            }\n",
    "            \n",
    "        # Support Vector Machine Regression:\n",
    "        elif self.rgg_opt == \"svr\":\n",
    "            print(\"\\n\\t ### Training the Support Vector Regressor \\t###\\n\")\n",
    "            rgg = SVR(kernel=\"linear\", gamma=0.1)\n",
    "            rgg_parameters = {\n",
    "                \"kernel\":(\"linear\",\"rgb\",\"poly\",\"sigmoid\"),\n",
    "                \"C\":(0.1,100,1000),\n",
    "#                 \"\"\n",
    "                \n",
    "            }\n",
    "        # K-Neighbors Regresssion\n",
    "        elif self.rgg_opt == \"knn\":\n",
    "            print(\"\\n\\t### Training the K-N Regressor \\t###\\n\")\n",
    "            rgg = KNeighborsRegressor(weights=\"uniform\")\n",
    "            rgg_parameters = {\n",
    "                \"n_neighbors\":(3,5,10,20,40,80),\n",
    "                \"algorithm\":(\"auto\", \"ball_tree\", \"kd_tree\", \"brute\"),\n",
    "                \"leaf_size\":(20,30,40,60,100),\n",
    "            }\n",
    "        # Artificial Neural Network\n",
    "        elif self.rgg_opt == \"ann\":\n",
    "            print(\"\\n\\t### Training the Artificial Neural Networks \\t###\\n\")\n",
    "            rgg = MLPRegressor(hidden_layer_sizes=[50,10,25,10],activation=\"tanh\",alpha=0.001,learning_rate_init=0.01)\n",
    "            rgg_parameters = {\n",
    "                \"hidden_layer_sizes\":([10,5,10],[100,75,25,75,25],[25,20,12,20,10],[100,50,15]),\n",
    "                \"activation\":(\"relu\",\"logistic\",\"tanh\",\"identity\"),\n",
    "                \"solver\":(\"sgd\",\"adam\",\"lbfgs\"),\n",
    "                \"alpha\":(0.0001,0.001,0.01,0.05),\n",
    "#                 \"\"\n",
    "            }\n",
    "        else:\n",
    "            print(\"\\n\\t Select the Valid ### \\n\")\n",
    "        return rgg,rgg_parameters\n",
    "\n",
    "# Load and prepare the data set:\n",
    "    def get_data(self):\n",
    "        df_train_data = pd.read_csv(\"stocknet_trn_data.csv\")\n",
    "        df_train_target = pd.read_csv(\"stocknet_trn_data_targets.csv\", header=None)\n",
    "        df_train_data = df_train_data.dropna()\n",
    "        df_train_target = df_train_target.dropna()\n",
    "#         df_train_data = df_train_data.loc[:,self.selected_features]\n",
    "        \n",
    "        df_train_target = df_train_target.iloc[:,1]\n",
    "        df_train_target.columns = [\"Closed_Price\"]\n",
    "        feature_names = df_train_data.columns\n",
    "        print(\"\\nFeatures Selected for training:-->\\t\", feature_names)\n",
    "        \n",
    "        # Training and test Split\n",
    "        X_train, X_test, y_train, y_test = train_test_split(df_train_data,df_train_target, test_size=0.10, random_state=43)\n",
    "        \n",
    "        return X_train, X_test, y_train, y_test\n",
    "    \n",
    "    \n",
    "    def regression_report(self,y_true, y_pred):\n",
    "        \n",
    "#         mean_absolute_percentage_error = (np.sum((y_true -y_pred)/y_true))/y_true.shape[0]\n",
    "    \n",
    "        error = abs(y_true - y_pred)\n",
    "        percentil = [5,25,50,75,95]\n",
    "        percentil_value = np.percentile(error, percentil)\n",
    "\n",
    "        metrics = [\n",
    "            ('mean absolute error', mean_absolute_error(y_pred,y_true)),\n",
    "            ('median absolute error', median_absolute_error(y_true, y_pred)),\n",
    "            ('mean squared error', mean_squared_error(y_true, y_pred)),\n",
    "            ('max error', max_error(y_true, y_pred)),\n",
    "            ('r2 score', r2_score(y_true, y_pred)),\n",
    "            ('explained variance score', explained_variance_score(y_true, y_pred)),\n",
    "            ('mean absolute percentage error', mean_absolute_percentage_error(y_true,y_pred)),\n",
    "        ]\n",
    "\n",
    "        print('Metrics for regression:')\n",
    "        for metric_name, metric_value in metrics:\n",
    "            print(f'{metric_name:>30s}: {metric_value: >20.6}')\n",
    "\n",
    "        print('\\nPercentiles:')\n",
    "\n",
    "        for p, pv in zip(percentil, percentil_value):\n",
    "            print(f'{p: 25d}: {pv:>20.3f}')\n",
    "\n",
    "        \n",
    "    def regression(self):\n",
    "        \n",
    "        \n",
    "        rgg,rgg_parameters = self.regression_pipeline()\n",
    "\n",
    "        X_train, X_test, y_train, y_test = self.get_data()\n",
    "\n",
    "        grid_rgg = GridSearchCV(rgg,\n",
    "                                param_grid=rgg_parameters,\n",
    "                               scoring=\"neg_mean_absolute_percentage_error\",\n",
    "                               cv= 10,\n",
    "                               )\n",
    "        grid_rgg.fit(X_train,y_train)\n",
    "\n",
    "        best_estimator = grid_rgg.best_estimator_\n",
    "        best_param = grid_rgg.best_params_\n",
    "        best_score = grid_rgg.best_score_\n",
    "\n",
    "        print(\"Optimal Score = \", best_score)\n",
    "        print(\"\\nThe best set of estimator is \", best_estimator)\n",
    "        print(\"\\nThe best set of Parameter for the given model are:\\n\", best_param)\n",
    "\n",
    "\n",
    "        #Evaluation\n",
    "        y_test_predicted = grid_rgg.predict(X_test)\n",
    "        print(\"\\nThe Regression Report:------------>\\n\")\n",
    "        self.regression_report(y_test,y_test_predicted)\n",
    "\n",
    "        \n",
    "        \n",
    "        \n",
    "        \n",
    "        \n",
    "        \n",
    "\n",
    "    \n",
    "\n",
    "        \n",
    "        \n",
    "            \n",
    "            \n",
    "            \n",
    "            \n",
    "            \n",
    "            \n",
    "            \n",
    "            \n",
    "            "
   ]
  },
  {
   "cell_type": "markdown",
   "metadata": {},
   "source": [
    "# Hyper Parameter Tuning of Linear regression"
   ]
  },
  {
   "cell_type": "code",
   "execution_count": 3,
   "metadata": {},
   "outputs": [
    {
     "name": "stdout",
     "output_type": "stream",
     "text": [
      "\n",
      "\t### Training Linear Regression\t###\n",
      "\n",
      "\n",
      "Features Selected for training:-->\t Index(['Open', 'High', 'Low', 'Volume'], dtype='object')\n",
      "Optimal Score =  -0.0037016202268986137\n",
      "\n",
      "The best set of estimator is  LinearRegression(normalize=True)\n",
      "\n",
      "The best set of Parameter for the given model are:\n",
      " {'copy_X': True, 'normalize': True}\n",
      "\n",
      "The Regression Report:------------>\n",
      "\n",
      "Metrics for regression:\n",
      "           mean absolute error:                6.965\n",
      "         median absolute error:                0.162\n",
      "            mean squared error:             5025.077\n",
      "                     max error:             1952.781\n",
      "                      r2 score:                1.000\n",
      "      explained variance score:                1.000\n",
      "mean absolute percentage error:                0.004\n",
      "\n",
      "Percentiles:\n",
      "                        5:                0.013\n",
      "                       25:                0.071\n",
      "                       50:                0.162\n",
      "                       75:                0.342\n",
      "                       95:                1.314\n"
     ]
    }
   ],
   "source": [
    "rgg = Stock_Regression(rgg_opt=\"lr\", selected_features=None)\n",
    "rgg.regression()"
   ]
  },
  {
   "cell_type": "markdown",
   "metadata": {},
   "source": [
    "# Hyper Parameter Tuning of Decision Tree Regressor"
   ]
  },
  {
   "cell_type": "code",
   "execution_count": null,
   "metadata": {},
   "outputs": [],
   "source": []
  },
  {
   "cell_type": "code",
   "execution_count": 4,
   "id": "10fbb3f9",
   "metadata": {},
   "outputs": [
    {
     "name": "stdout",
     "output_type": "stream",
     "text": [
      "\n",
      "\t### Training the Decision Tree Regressor\t ###\n",
      "\n",
      "\n",
      "Features Selected for training:-->\t Index(['Open', 'High', 'Low', 'Volume'], dtype='object')\n",
      "Optimal Score =  -0.007757972286812118\n",
      "\n",
      "The best set of estimator is  DecisionTreeRegressor(ccp_alpha=0.0009, criterion='absolute_error',\n",
      "                      max_depth=10)\n",
      "\n",
      "The best set of Parameter for the given model are:\n",
      " {'ccp_alpha': 0.0009, 'max_depth': 10, 'splitter': 'best'}\n",
      "\n",
      "The Regression Report:------------>\n",
      "\n",
      "Metrics for regression:\n",
      "           mean absolute error:              10.2586\n",
      "         median absolute error:                 0.33\n",
      "            mean squared error:              12308.7\n",
      "                     max error:               3474.0\n",
      "                      r2 score:             0.999978\n",
      "      explained variance score:             0.999978\n",
      "mean absolute percentage error:           0.00786697\n",
      "\n",
      "Percentiles:\n",
      "                        5:                0.030\n",
      "                       25:                0.150\n",
      "                       50:                0.330\n",
      "                       75:                0.640\n",
      "                       95:                2.580\n",
      "\n",
      "Time Taken 40401.04522609711\n"
     ]
    }
   ],
   "source": [
    "S = time()\n",
    "rgg = Stock_Regression(rgg_opt=\"dtr\", selected_features=None)\n",
    "rgg.regression()\n",
    "E = time()\n",
    "print(\"\\nTime Taken\",(E-S)/3600)"
   ]
  },
  {
   "cell_type": "code",
   "execution_count": null,
   "id": "07893da4",
   "metadata": {},
   "outputs": [],
   "source": []
  },
  {
   "cell_type": "code",
   "execution_count": 5,
   "id": "10b23ffa",
   "metadata": {},
   "outputs": [
    {
     "data": {
      "text/plain": [
       "11.222512562804752"
      ]
     },
     "execution_count": 5,
     "metadata": {},
     "output_type": "execute_result"
    }
   ],
   "source": [
    "(E-S)/3600"
   ]
  },
  {
   "cell_type": "code",
   "execution_count": 6,
   "id": "d1ce3f3a",
   "metadata": {},
   "outputs": [
    {
     "name": "stdout",
     "output_type": "stream",
     "text": [
      "\n",
      "\t### Training the Decision Tree Regressor\t ###\n",
      "\n",
      "\n",
      "Features Selected for training:-->\t Index(['Open', 'High', 'Low', 'Volume'], dtype='object')\n",
      "Optimal Score =  -0.00775769796467281\n",
      "\n",
      "The best set of estimator is  DecisionTreeRegressor(ccp_alpha=0.0009, criterion='absolute_error',\n",
      "                      max_depth=10)\n",
      "\n",
      "The best set of Parameter for the given model are:\n",
      " {'ccp_alpha': 0.0009, 'max_depth': 10, 'splitter': 'best'}\n",
      "\n",
      "The Regression Report:------------>\n",
      "\n",
      "Metrics for regression:\n",
      "           mean absolute error:              10.7319\n",
      "         median absolute error:                 0.33\n",
      "            mean squared error:              13106.8\n",
      "                     max error:               3335.0\n",
      "                      r2 score:             0.999976\n",
      "      explained variance score:             0.999976\n",
      "mean absolute percentage error:            0.0078696\n",
      "\n",
      "Percentiles:\n",
      "                        5:                0.030\n",
      "                       25:                0.150\n",
      "                       50:                0.330\n",
      "                       75:                0.640\n",
      "                       95:                2.580\n",
      "\n",
      "Time Taken 17.28268508295218  hrs\n"
     ]
    }
   ],
   "source": [
    "S = time()\n",
    "rgg = Stock_Regression(rgg_opt=\"dtr\", selected_features=None)\n",
    "rgg.regression()\n",
    "E = time()\n",
    "print(\"\\nTime Taken\",(E-S)/3600,\" hrs\")"
   ]
  },
  {
   "cell_type": "code",
   "execution_count": 4,
   "id": "2875cf83",
   "metadata": {},
   "outputs": [
    {
     "name": "stdout",
     "output_type": "stream",
     "text": [
      "\n",
      "\t### Training the Decision Tree Regressor\t ###\n",
      "\n",
      "\n",
      "Features Selected for training:-->\t Index(['Open', 'High', 'Low', 'Volume'], dtype='object')\n",
      "Optimal Score =  -0.012212219646733828\n",
      "\n",
      "The best set of estimator is  DecisionTreeRegressor(ccp_alpha=0.009, max_depth=10, max_features='auto')\n",
      "\n",
      "The best set of Parameter for the given model are:\n",
      " {'ccp_alpha': 0.009, 'max_depth': 10, 'max_features': 'auto', 'splitter': 'best'}\n",
      "\n",
      "The Regression Report:------------>\n",
      "\n",
      "Metrics for regression:\n",
      "           mean absolute error:               11.109\n",
      "         median absolute error:                0.527\n",
      "            mean squared error:            14409.843\n",
      "                     max error:             4355.625\n",
      "                      r2 score:                1.000\n",
      "      explained variance score:                1.000\n",
      "mean absolute percentage error:                0.012\n",
      "\n",
      "Percentiles:\n",
      "                        5:                0.050\n",
      "                       25:                0.257\n",
      "                       50:                0.527\n",
      "                       75:                0.921\n",
      "                       95:                2.755\n"
     ]
    }
   ],
   "source": [
    "rgg = Stock_Regression(rgg_opt=\"dtr\", selected_features=None)\n",
    "rgg.regression()"
   ]
  },
  {
   "cell_type": "markdown",
   "metadata": {},
   "source": [
    "# KNN Hyperparameter - Tuning"
   ]
  },
  {
   "cell_type": "code",
   "execution_count": 5,
   "id": "6a543206",
   "metadata": {},
   "outputs": [
    {
     "name": "stdout",
     "output_type": "stream",
     "text": [
      "\n",
      "\t### Training the K-N Regressor \t###\n",
      "\n",
      "\n",
      "Features Selected for training:-->\t Index(['Open', 'High', 'Low', 'Volume'], dtype='object')\n",
      "Optimal Score =  -0.5376312687610004\n",
      "\n",
      "The best set of estimator is  KNeighborsRegressor(leaf_size=20, n_neighbors=3)\n",
      "\n",
      "The best set of Parameter for the given model are:\n",
      " {'algorithm': 'auto', 'leaf_size': 20, 'n_neighbors': 3}\n",
      "\n",
      "The Regression Report:------------>\n",
      "\n",
      "Metrics for regression:\n",
      "           mean absolute error:               48.013\n",
      "         median absolute error:               21.460\n",
      "            mean squared error:            24126.376\n",
      "                     max error:             5746.667\n",
      "                      r2 score:                1.000\n",
      "      explained variance score:                1.000\n",
      "mean absolute percentage error:                0.534\n",
      "\n",
      "Percentiles:\n",
      "                        5:                1.469\n",
      "                       25:                9.187\n",
      "                       50:               21.460\n",
      "                       75:               41.500\n",
      "                       95:              124.049\n"
     ]
    }
   ],
   "source": [
    "rgg = Stock_Regression(rgg_opt=\"knn\", selected_features=None)\n",
    "rgg.regression()"
   ]
  },
  {
   "cell_type": "code",
   "execution_count": 7,
   "id": "278071ae",
   "metadata": {},
   "outputs": [],
   "source": [
    "from time import time"
   ]
  },
  {
   "cell_type": "code",
   "execution_count": 8,
   "id": "62cbf0e6",
   "metadata": {
    "scrolled": true
   },
   "outputs": [
    {
     "name": "stdout",
     "output_type": "stream",
     "text": [
      "\n",
      "\t### Training the K-N Regressor \t###\n",
      "\n",
      "\n",
      "Features Selected for training:-->\t Index(['Open', 'High', 'Low', 'Volume'], dtype='object')\n",
      "Optimal Score =  -0.5376312687610004\n",
      "\n",
      "The best set of estimator is  KNeighborsRegressor(leaf_size=20, n_neighbors=3)\n",
      "\n",
      "The best set of Parameter for the given model are:\n",
      " {'algorithm': 'auto', 'leaf_size': 20, 'n_neighbors': 3}\n",
      "\n",
      "The Regression Report:------------>\n",
      "\n",
      "Metrics for regression:\n",
      "           mean absolute error:               48.013\n",
      "         median absolute error:               21.460\n",
      "            mean squared error:            24126.376\n",
      "                     max error:             5746.667\n",
      "                      r2 score:                1.000\n",
      "      explained variance score:                1.000\n",
      "mean absolute percentage error:                0.534\n",
      "\n",
      "Percentiles:\n",
      "                        5:                1.469\n",
      "                       25:                9.187\n",
      "                       50:               21.460\n",
      "                       75:               41.500\n",
      "                       95:              124.049\n"
     ]
    }
   ],
   "source": [
    "\n",
    "\n",
    "start = time()\n",
    "rgg = Stock_Regression(rgg_opt=\"knn\", selected_features=None)\n",
    "rgg.regression()\n",
    "end= time()\n",
    "\n",
    "T = end - start"
   ]
  },
  {
   "cell_type": "code",
   "execution_count": 9,
   "id": "c1103e4d",
   "metadata": {},
   "outputs": [
    {
     "data": {
      "text/plain": [
       "4872.159919500351"
      ]
     },
     "execution_count": 9,
     "metadata": {},
     "output_type": "execute_result"
    }
   ],
   "source": [
    "T"
   ]
  },
  {
   "cell_type": "code",
   "execution_count": 12,
   "id": "798bab7e",
   "metadata": {},
   "outputs": [
    {
     "name": "stdout",
     "output_type": "stream",
     "text": [
      "\n",
      "\t### Training the K-N Regressor \t###\n",
      "\n",
      "\n",
      "Features Selected for training:-->\t Index(['Open', 'High', 'Low', 'Volume'], dtype='object')\n",
      "Optimal Score =  -0.5132508026919248\n",
      "\n",
      "The best set of estimator is  KNeighborsRegressor(leaf_size=25, n_neighbors=1)\n",
      "\n",
      "The best set of Parameter for the given model are:\n",
      " {'algorithm': 'auto', 'leaf_size': 25, 'n_neighbors': 1}\n",
      "\n",
      "The Regression Report:------------>\n",
      "\n",
      "Metrics for regression:\n",
      "           mean absolute error:            47.317512\n",
      "         median absolute error:            19.989998\n",
      "            mean squared error:         24237.437284\n",
      "                     max error:          5780.000000\n",
      "                      r2 score:             0.999956\n",
      "      explained variance score:             0.999957\n",
      "mean absolute percentage error:             0.500358\n",
      "\n",
      "Percentiles:\n",
      "                        5:                0.970\n",
      "                       25:                7.025\n",
      "                       50:               19.990\n",
      "                       75:               43.600\n",
      "                       95:              117.216\n"
     ]
    }
   ],
   "source": [
    "start = time()\n",
    "rgg = Stock_Regression(rgg_opt=\"knn\", selected_features=None)\n",
    "rgg.regression()\n",
    "end= time()\n",
    "\n",
    "T = end - start"
   ]
  },
  {
   "cell_type": "code",
   "execution_count": 13,
   "id": "36a8c0b7",
   "metadata": {},
   "outputs": [
    {
     "data": {
      "text/plain": [
       "1716.3815698623657"
      ]
     },
     "execution_count": 13,
     "metadata": {},
     "output_type": "execute_result"
    }
   ],
   "source": [
    "T"
   ]
  },
  {
   "cell_type": "code",
   "execution_count": 14,
   "id": "6e7ff117",
   "metadata": {},
   "outputs": [
    {
     "name": "stdout",
     "output_type": "stream",
     "text": [
      "\n",
      "\t### Training the K-N Regressor \t###\n",
      "\n",
      "\n",
      "Features Selected for training:-->\t Index(['Open', 'High', 'Low', 'Volume'], dtype='object')\n",
      "Optimal Score =  -0.5132508026919248\n",
      "\n",
      "The best set of estimator is  KNeighborsRegressor(leaf_size=25, n_neighbors=1)\n",
      "\n",
      "The best set of Parameter for the given model are:\n",
      " {'algorithm': 'auto', 'leaf_size': 25, 'n_neighbors': 1}\n",
      "\n",
      "The Regression Report:------------>\n",
      "\n",
      "Metrics for regression:\n",
      "           mean absolute error:            47.317512\n",
      "         median absolute error:            19.989998\n",
      "            mean squared error:         24237.437284\n",
      "                     max error:          5780.000000\n",
      "                      r2 score:             0.999956\n",
      "      explained variance score:             0.999957\n",
      "mean absolute percentage error:             0.500358\n",
      "\n",
      "Percentiles:\n",
      "                        5:                0.970\n",
      "                       25:                7.025\n",
      "                       50:               19.990\n",
      "                       75:               43.600\n",
      "                       95:              117.216\n"
     ]
    }
   ],
   "source": [
    "start = time()\n",
    "rgg = Stock_Regression(rgg_opt=\"knn\", selected_features=None)\n",
    "rgg.regression()\n",
    "end= time()\n",
    "\n",
    "T = end - start"
   ]
  },
  {
   "cell_type": "code",
   "execution_count": 11,
   "id": "bc16f16b",
   "metadata": {},
   "outputs": [
    {
     "name": "stdout",
     "output_type": "stream",
     "text": [
      "\n",
      "\t### Training the K-N Regressor \t###\n",
      "\n",
      "\n",
      "Features Selected for training:-->\t Index(['Open', 'High', 'Low', 'Volume'], dtype='object')\n",
      "Optimal Score =  -0.5132508024756615\n",
      "\n",
      "The best set of estimator is  KNeighborsRegressor(leaf_size=5, n_neighbors=1)\n",
      "\n",
      "The best set of Parameter for the given model are:\n",
      " {'algorithm': 'auto', 'leaf_size': 5, 'n_neighbors': 1}\n",
      "\n",
      "The Regression Report:------------>\n",
      "\n",
      "Metrics for regression:\n",
      "           mean absolute error:            47.317512\n",
      "         median absolute error:            19.989998\n",
      "            mean squared error:         24237.437284\n",
      "                     max error:          5780.000000\n",
      "                      r2 score:             0.999956\n",
      "      explained variance score:             0.999957\n",
      "mean absolute percentage error:             0.500358\n",
      "\n",
      "Percentiles:\n",
      "                        5:                0.970\n",
      "                       25:                7.025\n",
      "                       50:               19.990\n",
      "                       75:               43.600\n",
      "                       95:              117.216\n",
      "Time =  0.28738285978635153 hrs\n"
     ]
    }
   ],
   "source": [
    "start = time()\n",
    "rgg = Stock_Regression(rgg_opt=\"knn\", selected_features=None)\n",
    "rgg.regression()\n",
    "end= time()\n",
    "\n",
    "T = end - start\n",
    "print(\"Time = \", T/3600 ,\"hrs\")"
   ]
  },
  {
   "cell_type": "code",
   "execution_count": 4,
   "id": "3f9ffc3b",
   "metadata": {},
   "outputs": [
    {
     "name": "stdout",
     "output_type": "stream",
     "text": [
      "\n",
      "\t### Training the K-N Regressor \t###\n",
      "\n",
      "\n",
      "Features Selected for training:-->\t Index(['Open', 'High', 'Low', 'Volume'], dtype='object')\n",
      "Optimal Score =  -0.5132508024756615\n",
      "\n",
      "The best set of estimator is  KNeighborsRegressor(leaf_size=1, n_neighbors=1)\n",
      "\n",
      "The best set of Parameter for the given model are:\n",
      " {'algorithm': 'auto', 'leaf_size': 1, 'n_neighbors': 1}\n",
      "\n",
      "The Regression Report:------------>\n",
      "\n",
      "Metrics for regression:\n",
      "           mean absolute error:            47.317512\n",
      "         median absolute error:            19.989998\n",
      "            mean squared error:         24237.437284\n",
      "                     max error:          5780.000000\n",
      "                      r2 score:             0.999956\n",
      "      explained variance score:             0.999957\n",
      "mean absolute percentage error:             0.500358\n",
      "\n",
      "Percentiles:\n",
      "                        5:                0.970\n",
      "                       25:                7.025\n",
      "                       50:               19.990\n",
      "                       75:               43.600\n",
      "                       95:              117.216\n",
      "Time =  0.3432654549678167 hrs\n"
     ]
    }
   ],
   "source": [
    "start = time()\n",
    "rgg = Stock_Regression(rgg_opt=\"knn\", selected_features=None)\n",
    "rgg.regression()\n",
    "end= time()\n",
    "\n",
    "T = end - start\n",
    "print(\"Time = \", T/3600 ,\"hrs\")"
   ]
  },
  {
   "cell_type": "markdown",
   "metadata": {},
   "source": [
    "# Hyper Parameter Tuning of Artificial Neural Networks"
   ]
  },
  {
   "cell_type": "code",
   "execution_count": 24,
   "id": "4ecca20f",
   "metadata": {},
   "outputs": [],
   "source": [
    "from time import time"
   ]
  },
  {
   "cell_type": "code",
   "execution_count": 26,
   "id": "d14a53a5",
   "metadata": {},
   "outputs": [
    {
     "name": "stdout",
     "output_type": "stream",
     "text": [
      "\n",
      "\t### Training the Artificial Neural Networks \t###\n",
      "\n",
      "\n",
      "Features Selected for training:-->\t Index(['Open', 'High', 'Low', 'Volume'], dtype='object')\n",
      "Optimal Score =  -0.8126959986927549\n",
      "\n",
      "The best set of estimator is  MLPRegressor(alpha=0.001, hidden_layer_sizes=[45, 25, 15],\n",
      "             learning_rate_init=0.01)\n",
      "\n",
      "The best set of Parameter for the given model are:\n",
      " {'activation': 'relu', 'alpha': 0.001, 'hidden_layer_sizes': [45, 25, 15]}\n",
      "\n",
      "The Regression Report:------------>\n",
      "\n",
      "Metrics for regression:\n",
      "           mean absolute error:              104.029\n",
      "         median absolute error:               46.891\n",
      "            mean squared error:            96644.995\n",
      "                     max error:             4902.379\n",
      "                      r2 score:                1.000\n",
      "      explained variance score:                1.000\n",
      "mean absolute percentage error:                0.654\n",
      "\n",
      "Percentiles:\n",
      "                        5:                3.259\n",
      "                       25:               21.441\n",
      "                       50:               46.891\n",
      "                       75:               79.551\n",
      "                       95:              271.225\n"
     ]
    }
   ],
   "source": [
    "print(\"Time = \", T/3600 ,\"hrs\")start =  time()\n",
    "rgg = Stock_Regression(rgg_opt=\"ann\", selected_features=None)\n",
    "rgg.regression()\n",
    "end = time()\n",
    "T = end - start"
   ]
  },
  {
   "cell_type": "code",
   "execution_count": 5,
   "id": "f31e9acb",
   "metadata": {},
   "outputs": [
    {
     "name": "stdout",
     "output_type": "stream",
     "text": [
      "\n",
      "\t### Training the Artificial Neural Networks \t###\n",
      "\n",
      "\n",
      "Features Selected for training:-->\t Index(['Open', 'High', 'Low', 'Volume'], dtype='object')\n",
      "Optimal Score =  -0.7812614658867773\n",
      "\n",
      "The best set of estimator is  MLPRegressor(alpha=0.03, hidden_layer_sizes=[35, 20, 10],\n",
      "             learning_rate_init=0.01)\n",
      "\n",
      "The best set of Parameter for the given model are:\n",
      " {'alpha': 0.03, 'hidden_layer_sizes': [35, 20, 10]}\n",
      "\n",
      "The Regression Report:------------>\n",
      "\n",
      "Metrics for regression:\n",
      "           mean absolute error:           106.132800\n",
      "         median absolute error:            65.812682\n",
      "            mean squared error:         51183.015257\n",
      "                     max error:          4113.109006\n",
      "                      r2 score:             0.999908\n",
      "      explained variance score:             0.999923\n",
      "mean absolute percentage error:             0.973749\n",
      "\n",
      "Percentiles:\n",
      "                        5:            16.533291\n",
      "                       25:            40.367289\n",
      "                       50:            65.812682\n",
      "                       75:            98.417288\n",
      "                       95:           264.269288\n",
      "Time =  0.42638567275471156 hrs\n"
     ]
    }
   ],
   "source": [
    "start =  time()\n",
    "rgg = Stock_Regression(rgg_opt=\"ann\", selected_features=None)\n",
    "rgg.regression()\n",
    "end = time()\n",
    "T = end - start\n",
    "print(\"Time = \", T/3600 ,\"hrs\")"
   ]
  },
  {
   "cell_type": "code",
   "execution_count": 3,
   "id": "89e39458",
   "metadata": {},
   "outputs": [
    {
     "name": "stdout",
     "output_type": "stream",
     "text": [
      "\n",
      "\t### Training the Artificial Neural Networks \t###\n",
      "\n",
      "\n",
      "Features Selected for training:-->\t Index(['Open', 'High', 'Low', 'Volume'], dtype='object')\n",
      "Optimal Score =  -0.769148792079948\n",
      "\n",
      "The best set of estimator is  MLPRegressor(alpha=0.0009, hidden_layer_sizes=[40, 25, 15],\n",
      "             learning_rate_init=0.01)\n",
      "\n",
      "The best set of Parameter for the given model are:\n",
      " {'alpha': 0.0009, 'hidden_layer_sizes': [40, 25, 15]}\n",
      "\n",
      "The Regression Report:------------>\n",
      "\n",
      "Metrics for regression:\n",
      "           mean absolute error:           109.551843\n",
      "         median absolute error:            28.512301\n",
      "            mean squared error:        247534.213936\n",
      "                     max error:          7843.771418\n",
      "                      r2 score:             0.999553\n",
      "      explained variance score:             0.999554\n",
      "mean absolute percentage error:             0.786614\n",
      "\n",
      "Percentiles:\n",
      "                        5:             2.982302\n",
      "                       25:            13.952303\n",
      "                       50:            28.512301\n",
      "                       75:            46.492297\n",
      "                       95:           232.126304\n",
      "Time =  0.43704131881395974 hrs\n"
     ]
    }
   ],
   "source": [
    "start =  time()\n",
    "rgg = Stock_Regression(rgg_opt=\"ann\", selected_features=None)\n",
    "rgg.regression()\n",
    "end = time()\n",
    "T = end - start\n",
    "print(\"Time = \", T/3600 ,\"hrs\")"
   ]
  },
  {
   "cell_type": "code",
   "execution_count": 4,
   "id": "6bd651cc",
   "metadata": {},
   "outputs": [
    {
     "name": "stdout",
     "output_type": "stream",
     "text": [
      "\n",
      "\t### Training the Artificial Neural Networks \t###\n",
      "\n",
      "\n",
      "Features Selected for training:-->\t Index(['Open', 'High', 'Low', 'Volume'], dtype='object')\n",
      "Optimal Score =  -0.7969365235127258\n",
      "\n",
      "The best set of estimator is  MLPRegressor(alpha=0.001, hidden_layer_sizes=[45, 25, 15],\n",
      "             learning_rate_init=0.01)\n",
      "\n",
      "The best set of Parameter for the given model are:\n",
      " {'alpha': 0.001, 'hidden_layer_sizes': [45, 25, 15]}\n",
      "\n",
      "The Regression Report:------------>\n",
      "\n",
      "Metrics for regression:\n",
      "           mean absolute error:            92.955989\n",
      "         median absolute error:            42.771132\n",
      "            mean squared error:         70750.358676\n",
      "                     max error:          5219.681143\n",
      "                      r2 score:             0.999872\n",
      "      explained variance score:             0.999878\n",
      "mean absolute percentage error:             0.618409\n",
      "\n",
      "Percentiles:\n",
      "                        5:             3.287128\n",
      "                       25:            17.611128\n",
      "                       50:            42.771132\n",
      "                       75:            75.411131\n",
      "                       95:           250.241132\n",
      "Time =  0.35992228653695846 hrs\n"
     ]
    }
   ],
   "source": [
    "start =  time()\n",
    "rgg = Stock_Regression(rgg_opt=\"ann\", selected_features=None)\n",
    "rgg.regression()\n",
    "end = time()\n",
    "T = end - start\n",
    "print(\"Time = \", T/3600 ,\"hrs\")"
   ]
  },
  {
   "cell_type": "code",
   "execution_count": 5,
   "id": "1d021161",
   "metadata": {},
   "outputs": [
    {
     "name": "stdout",
     "output_type": "stream",
     "text": [
      "\n",
      "\t### Training the Artificial Neural Networks \t###\n",
      "\n",
      "\n",
      "Features Selected for training:-->\t Index(['Open', 'High', 'Low', 'Volume'], dtype='object')\n",
      "Optimal Score =  -0.8091305621708875\n",
      "\n",
      "The best set of estimator is  MLPRegressor(alpha=0.001, hidden_layer_sizes=[100, 200, 150, 150, 175, 80],\n",
      "             learning_rate_init=0.01, solver='lbfgs')\n",
      "\n",
      "The best set of Parameter for the given model are:\n",
      " {'hidden_layer_sizes': [100, 200, 150, 150, 175, 80], 'solver': 'lbfgs'}\n",
      "\n",
      "The Regression Report:------------>\n",
      "\n",
      "Metrics for regression:\n",
      "           mean absolute error:           117.361117\n",
      "         median absolute error:            60.534002\n",
      "            mean squared error:        181669.022899\n",
      "                     max error:         20402.295608\n",
      "                      r2 score:             0.999672\n",
      "      explained variance score:             0.999684\n",
      "mean absolute percentage error:             0.952872\n",
      "\n",
      "Percentiles:\n",
      "                        5:            16.002178\n",
      "                       25:            40.406172\n",
      "                       50:            60.534002\n",
      "                       75:            88.924057\n",
      "                       95:           249.312203\n",
      "Time =  10.74674850775136 hrs\n"
     ]
    }
   ],
   "source": [
    "start =  time()\n",
    "rgg = Stock_Regression(rgg_opt=\"ann\", selected_features=None)\n",
    "rgg.regression()\n",
    "end = time()\n",
    "T = end - start\n",
    "print(\"Time = \", T/3600 ,\"hrs\")"
   ]
  },
  {
   "cell_type": "markdown",
   "metadata": {},
   "source": [
    "# Hyper Parameter Tuning of Random Forest"
   ]
  },
  {
   "cell_type": "code",
   "execution_count": 8,
   "id": "52209b39",
   "metadata": {},
   "outputs": [
    {
     "name": "stdout",
     "output_type": "stream",
     "text": [
      "\n",
      "\t ### Traing the Random Forest Regressor \t###\n",
      "\n",
      "\n",
      "Features Selected for training:-->\t Index(['Open', 'High', 'Low', 'Volume'], dtype='object')\n",
      "Optimal Score =  -0.00385846314790695\n",
      "\n",
      "The best set of estimator is  RandomForestRegressor(max_depth=20, max_features=None, n_estimators=400)\n",
      "\n",
      "The best set of Parameter for the given model are:\n",
      " {'max_depth': 20, 'n_estimators': 400}\n",
      "\n",
      "The Regression Report:------------>\n",
      "\n",
      "Metrics for regression:\n",
      "           mean absolute error:                9.265\n",
      "         median absolute error:                0.170\n",
      "            mean squared error:             9577.367\n",
      "                     max error:             2609.888\n",
      "                      r2 score:                1.000\n",
      "      explained variance score:                1.000\n",
      "mean absolute percentage error:                0.004\n",
      "\n",
      "Percentiles:\n",
      "                        5:                0.014\n",
      "                       25:                0.071\n",
      "                       50:                0.170\n",
      "                       75:                0.358\n",
      "                       95:                1.499\n"
     ]
    }
   ],
   "source": [
    "start =  time()\n",
    "rgg = Stock_Regression(rgg_opt=\"rfr\", selected_features=None)\n",
    "rgg.regression()\n",
    "end = time()\n",
    "T = end - start"
   ]
  },
  {
   "cell_type": "code",
   "execution_count": 9,
   "id": "03dcc509",
   "metadata": {},
   "outputs": [
    {
     "data": {
      "text/plain": [
       "29509.223853588104"
      ]
     },
     "execution_count": 9,
     "metadata": {},
     "output_type": "execute_result"
    }
   ],
   "source": [
    "T"
   ]
  },
  {
   "cell_type": "code",
   "execution_count": null,
   "id": "9fbf0c09",
   "metadata": {},
   "outputs": [],
   "source": []
  },
  {
   "cell_type": "code",
   "execution_count": 11,
   "id": "2153862c",
   "metadata": {},
   "outputs": [
    {
     "name": "stdout",
     "output_type": "stream",
     "text": [
      "\n",
      "\t ### Traing the Random Forest Regressor \t###\n",
      "\n",
      "\n",
      "Features Selected for training:-->\t Index(['Open', 'High', 'Low', 'Volume'], dtype='object')\n",
      "Optimal Score =  -0.003861317069415054\n",
      "\n",
      "The best set of estimator is  RandomForestRegressor(max_depth=20, max_features=None, n_estimators=400)\n",
      "\n",
      "The best set of Parameter for the given model are:\n",
      " {'max_depth': 20, 'n_estimators': 400}\n",
      "\n",
      "The Regression Report:------------>\n",
      "\n",
      "Metrics for regression:\n",
      "           mean absolute error:                9.293\n",
      "         median absolute error:                0.170\n",
      "            mean squared error:             9637.974\n",
      "                     max error:             2726.505\n",
      "                      r2 score:                1.000\n",
      "      explained variance score:                1.000\n",
      "mean absolute percentage error:                0.004\n",
      "\n",
      "Percentiles:\n",
      "                        5:             0.013608\n",
      "                       25:             0.070082\n",
      "                       50:             0.169716\n",
      "                       75:             0.359171\n",
      "                       95:             1.507316\n"
     ]
    }
   ],
   "source": [
    "start =  time()\n",
    "rgg = Stock_Regression(rgg_opt=\"rfr\", selected_features=None)\n",
    "rgg.regression()\n",
    "end = time()\n",
    "T = end - start"
   ]
  },
  {
   "cell_type": "code",
   "execution_count": 3,
   "id": "9a73e540",
   "metadata": {},
   "outputs": [
    {
     "name": "stdout",
     "output_type": "stream",
     "text": [
      "\n",
      "\t ### Traing the Random Forest Regressor \t###\n",
      "\n",
      "\n",
      "Features Selected for training:-->\t Index(['Open', 'High', 'Low', 'Volume'], dtype='object')\n",
      "Optimal Score =  -0.003858308112681205\n",
      "\n",
      "The best set of estimator is  RandomForestRegressor(max_depth=20, max_features=None, n_estimators=400)\n",
      "\n",
      "The best set of Parameter for the given model are:\n",
      " {'max_depth': 20, 'n_estimators': 400}\n",
      "\n",
      "The Regression Report:------------>\n",
      "\n",
      "Metrics for regression:\n",
      "           mean absolute error:             9.263692\n",
      "         median absolute error:             0.170091\n",
      "            mean squared error:          9450.599464\n",
      "                     max error:          2589.667500\n",
      "                      r2 score:             0.999983\n",
      "      explained variance score:             0.999983\n",
      "mean absolute percentage error:             0.003869\n",
      "\n",
      "Percentiles:\n",
      "                        5:             0.014118\n",
      "                       25:             0.069751\n",
      "                       50:             0.170091\n",
      "                       75:             0.357644\n",
      "                       95:             1.461871\n",
      "Time =  2.8188626814550823 hrs\n"
     ]
    }
   ],
   "source": [
    "start =  time()\n",
    "rgg = Stock_Regression(rgg_opt=\"rfr\", selected_features=None)\n",
    "rgg.regression()\n",
    "end = time()\n",
    "T = end - start\n",
    "print(\"Time = \", T/3600 ,\"hrs\")"
   ]
  },
  {
   "cell_type": "code",
   "execution_count": 10,
   "id": "ed331a34",
   "metadata": {},
   "outputs": [
    {
     "name": "stdout",
     "output_type": "stream",
     "text": [
      "\n",
      "\t### Training Linear Regression\t###\n",
      "\n",
      "\n",
      "Features Selected for training:-->\t Index(['Open', 'High', 'Low', 'Volume'], dtype='object')\n",
      "Optimal Score =  -6.111663440066277\n",
      "\n",
      "The best set of estimator is  LinearRegression(copy_X=True, fit_intercept=True, n_jobs=None, normalize=True)\n",
      "\n",
      "The best set of Parameter for the given model are:\n",
      " {'copy_X': True, 'normalize': True}\n",
      "\n",
      "The Regression Report:------------>\n",
      "\n",
      "Metrics for regression:\n",
      "           mean absolute error:                6.965\n",
      "         median absolute error:                0.162\n",
      "            mean squared error:             5025.077\n",
      "                     max error:             1952.781\n",
      "                      r2 score:                1.000\n",
      "      explained variance score:                1.000\n",
      "\n",
      "Percentiles:\n",
      "                        5:                0.013\n",
      "                       25:                0.071\n",
      "                       50:                0.162\n",
      "                       75:                0.342\n",
      "                       95:                1.314\n"
     ]
    }
   ],
   "source": [
    "start =  time()\n",
    "rgg = Stock_Regression(rgg_opt=\"lr\", selected_features=None)\n",
    "rgg.regression()\n",
    "end = time()\n",
    "T = end - start\n"
   ]
  },
  {
   "cell_type": "markdown",
   "metadata": {},
   "source": [
    "# Experimental method for Error Minization"
   ]
  },
  {
   "cell_type": "code",
   "execution_count": 2,
   "id": "f329bde6",
   "metadata": {},
   "outputs": [],
   "source": [
    "def regression_report(y_true, y_pred):\n",
    "\n",
    "    error = abs(y_true - y_pred)\n",
    "    percentil = [5,25,50,75,95]\n",
    "    percentil_value = np.percentile(error, percentil)\n",
    "\n",
    "    metrics = [\n",
    "        ('mean absolute error', mean_absolute_error(y_pred,y_true)),\n",
    "        ('median absolute error', median_absolute_error(y_true, y_pred)),\n",
    "        ('mean squared error', mean_squared_error(y_true, y_pred)),\n",
    "        ('max error', max_error(y_true, y_pred)),\n",
    "        ('r2 score', r2_score(y_true, y_pred)),\n",
    "        ('explained variance score', explained_variance_score(y_true, y_pred)),\n",
    "        ('mean absolute percentage error', mean_absolute_percentage_error(y_true, y_pred)),\n",
    "    ]\n",
    "\n",
    "    print('Metrics for regression:')\n",
    "    for metric_name, metric_value in metrics:\n",
    "        print(f'{metric_name:>30s}: {metric_value: >20.6f}')\n",
    "\n",
    "    print('\\nPercentiles:')\n",
    "\n",
    "    for p, pv in zip(percentil, percentil_value):\n",
    "        print(f'{p: 25d}: {pv:>20.6f}')\n",
    "        \n",
    "        \n",
    "def Algo():\n",
    "    s = time()\n",
    "    df_train_data = pd.read_csv(\"stocknet_trn_data.csv\")\n",
    "    df_train_target = pd.read_csv(\"stocknet_trn_data_targets.csv\", header=None)\n",
    "    df_train_data = df_train_data.dropna()\n",
    "    df_train_target = df_train_target.dropna()\n",
    "#         df_train_data = df_train_data.loc[:,self.selected_features]\n",
    "\n",
    "    df_train_target = df_train_target.iloc[:,1]\n",
    "    df_train_target.columns = [\"Closed_Price\"]\n",
    "    feature_names = df_train_data.columns\n",
    "    print(\"\\nFeatures Selected for training:-->\\t\", feature_names)\n",
    "\n",
    "    # Training and test Split\n",
    "    X_train, X_test, y_train, y_test = train_test_split(df_train_data,df_train_target, test_size=0.10, random_state=43)\n",
    "    \n",
    "    lr = LinearRegression(copy_X=True, fit_intercept=True, n_jobs=None, normalize=True)\n",
    "    rfr = RandomForestRegressor(max_depth=20, max_features=None, n_estimators=400)\n",
    "    dtr = DecisionTreeRegressor(ccp_alpha=0.0009, criterion='absolute_error',\n",
    "                      max_depth=10)\n",
    "    \n",
    "    lr.fit(X_train, y_train)\n",
    "    print(\"rfr\")\n",
    "    rfr.fit(X_train, y_train)\n",
    "    print(\"\\ndtr\")\n",
    "#     dtr.fit(X_train, y_train)\n",
    "    \n",
    "    y1 = lr.predict(X_train)\n",
    "    y2 = rfr.predict(X_train)\n",
    "#     y3 = dtr.predict(X_train)\n",
    "    \n",
    "    y1_test = lr.predict(X_test)\n",
    "    y2_test = rfr.predict(X_test)\n",
    "#     y3_test = dtr.predict(X_test)\n",
    "    \n",
    "    df_n = pd.DataFrame()\n",
    "    df_n[\"y1r\"] = y1\n",
    "    df_n[\"yrfr\"] = y2\n",
    "#     df_n[\"ydtr\"] = y3\n",
    "    df_n_test = pd.DataFrame()\n",
    "    df_n_test[\"ylr\"] = y1_test\n",
    "    df_n_test[\"yrfr\"] = y2_test\n",
    "#     df_n_test[\"ydtr\"] = y3_test\n",
    "    \n",
    "    \n",
    "    lr_r = LinearRegression(copy_X=True, fit_intercept=True, n_jobs=None, normalize=True)\n",
    "#     lr_r = RandomForestRegressor(max_depth=20, max_features=None, n_estimators=400)\n",
    "    lr_r.fit(df_n,y_train)\n",
    "    y_prec = lr_r.predict(df_n_test)\n",
    "    \n",
    "    regression_report(y_prec,y_test)\n",
    "    \n",
    "    e = time()\n",
    "    \n",
    "    print(\"time required = \", (e-s)/60, \"mins\")\n",
    "    \n",
    "    \n",
    "    \n",
    "    \n"
   ]
  },
  {
   "cell_type": "code",
   "execution_count": 14,
   "id": "703e05b8",
   "metadata": {},
   "outputs": [
    {
     "name": "stdout",
     "output_type": "stream",
     "text": [
      "\n",
      "Features Selected for training:-->\t Index(['Open', 'High', 'Low', 'Volume'], dtype='object')\n",
      "rfr\n",
      "\n",
      "dtr\n",
      "Metrics for regression:\n",
      "           mean absolute error:             7.082487\n",
      "         median absolute error:             0.187303\n",
      "            mean squared error:          5266.077198\n",
      "                     max error:          1848.928405\n",
      "                      r2 score:             0.999990\n",
      "      explained variance score:             0.999990\n",
      "mean absolute percentage error:             0.004244\n",
      "\n",
      "Percentiles:\n",
      "                        5:             0.016355\n",
      "                       25:             0.083181\n",
      "                       50:             0.187303\n",
      "                       75:             0.380654\n",
      "                       95:             1.460336\n",
      "time required =  6.784895741939545 mins\n"
     ]
    }
   ],
   "source": [
    "Algo()"
   ]
  },
  {
   "cell_type": "code",
   "execution_count": 18,
   "id": "03e80e4a",
   "metadata": {},
   "outputs": [
    {
     "name": "stdout",
     "output_type": "stream",
     "text": [
      "\n",
      "Features Selected for training:-->\t Index(['Open', 'High', 'Low', 'Volume'], dtype='object')\n",
      "rfr\n",
      "\n",
      "dtr\n",
      "Metrics for regression:\n",
      "           mean absolute error:             9.287264\n",
      "         median absolute error:             0.189770\n",
      "            mean squared error:          9614.029766\n",
      "                     max error:          2691.593234\n",
      "                      r2 score:             0.999983\n",
      "      explained variance score:             0.999983\n",
      "mean absolute percentage error:             0.004383\n",
      "\n",
      "Percentiles:\n",
      "                        5:             0.015535\n",
      "                       25:             0.082426\n",
      "                       50:             0.189770\n",
      "                       75:             0.393260\n",
      "                       95:             1.569159\n",
      "time required =  6.620603358745575 mins\n"
     ]
    }
   ],
   "source": [
    "Algo()"
   ]
  },
  {
   "cell_type": "code",
   "execution_count": 19,
   "id": "5547f6d2",
   "metadata": {},
   "outputs": [
    {
     "name": "stdout",
     "output_type": "stream",
     "text": [
      "\n",
      "Features Selected for training:-->\t Index(['Open', 'High', 'Low', 'Volume'], dtype='object')\n",
      "rfr\n",
      "\n",
      "dtr\n",
      "Metrics for regression:\n",
      "           mean absolute error:             9.096858\n",
      "         median absolute error:             0.192622\n",
      "            mean squared error:          9418.055756\n",
      "                     max error:          2700.289336\n",
      "                      r2 score:             0.999983\n",
      "      explained variance score:             0.999983\n",
      "mean absolute percentage error:             0.004438\n",
      "\n",
      "Percentiles:\n",
      "                        5:             0.015988\n",
      "                       25:             0.084118\n",
      "                       50:             0.192622\n",
      "                       75:             0.397974\n",
      "                       95:             1.589167\n",
      "time required =  7.9424845178922014 mins\n"
     ]
    }
   ],
   "source": [
    "Algo()"
   ]
  },
  {
   "cell_type": "code",
   "execution_count": 20,
   "id": "03b29f9a",
   "metadata": {},
   "outputs": [
    {
     "name": "stdout",
     "output_type": "stream",
     "text": [
      "\n",
      "Features Selected for training:-->\t Index(['Open', 'High', 'Low', 'Volume'], dtype='object')\n",
      "rfr\n",
      "\n",
      "dtr\n",
      "Metrics for regression:\n",
      "           mean absolute error:             9.192650\n",
      "         median absolute error:             0.191480\n",
      "            mean squared error:          9410.404987\n",
      "                     max error:          2702.140526\n",
      "                      r2 score:             0.999983\n",
      "      explained variance score:             0.999983\n",
      "mean absolute percentage error:             0.004406\n",
      "\n",
      "Percentiles:\n",
      "                        5:             0.015810\n",
      "                       25:             0.083134\n",
      "                       50:             0.191480\n",
      "                       75:             0.393664\n",
      "                       95:             1.576905\n",
      "time required =  7.984406423568726 mins\n"
     ]
    }
   ],
   "source": [
    "Algo()"
   ]
  },
  {
   "cell_type": "code",
   "execution_count": 22,
   "id": "4c82e436",
   "metadata": {},
   "outputs": [
    {
     "name": "stdout",
     "output_type": "stream",
     "text": [
      "\n",
      "Features Selected for training:-->\t Index(['Open', 'High', 'Low', 'Volume'], dtype='object')\n",
      "rfr\n",
      "\n",
      "dtr\n",
      "Metrics for regression:\n",
      "           mean absolute error:             9.368492\n",
      "         median absolute error:             0.182259\n",
      "            mean squared error:          9228.825505\n",
      "                     max error:          2371.090000\n",
      "                      r2 score:             0.999983\n",
      "      explained variance score:             0.999983\n",
      "mean absolute percentage error:             0.004144\n",
      "\n",
      "Percentiles:\n",
      "                        5:             0.013213\n",
      "                       25:             0.076218\n",
      "                       50:             0.182259\n",
      "                       75:             0.392091\n",
      "                       95:             1.590650\n",
      "time required =  3.7498136798540753 mins\n"
     ]
    }
   ],
   "source": [
    "Algo()"
   ]
  },
  {
   "cell_type": "code",
   "execution_count": 3,
   "id": "91e0107e",
   "metadata": {},
   "outputs": [
    {
     "name": "stdout",
     "output_type": "stream",
     "text": [
      "\n",
      "Features Selected for training:-->\t Index(['Open', 'High', 'Low', 'Volume'], dtype='object')\n",
      "rfr\n",
      "\n",
      "dtr\n",
      "Metrics for regression:\n",
      "           mean absolute error:            10.229218\n",
      "         median absolute error:             0.176057\n",
      "            mean squared error:         12150.219437\n",
      "                     max error:          2858.217396\n",
      "                      r2 score:             0.999978\n",
      "      explained variance score:             0.999978\n",
      "mean absolute percentage error:             0.004040\n",
      "\n",
      "Percentiles:\n",
      "                        5:             0.013408\n",
      "                       25:             0.072923\n",
      "                       50:             0.176057\n",
      "                       75:             0.373178\n",
      "                       95:             1.538520\n",
      "time required =  2.4051223158836366 mins\n"
     ]
    }
   ],
   "source": [
    "Algo()"
   ]
  },
  {
   "cell_type": "code",
   "execution_count": null,
   "id": "4648997c",
   "metadata": {},
   "outputs": [],
   "source": []
  },
  {
   "cell_type": "code",
   "execution_count": null,
   "metadata": {},
   "outputs": [],
   "source": []
  },
  {
   "cell_type": "markdown",
   "metadata": {},
   "source": [
    "\n",
    "# From observing all the results above we conlude that Linear Regression is Optimal Model for this Regression Problem with MAPE = 0.003709\n",
    "\n",
    "# i.e with only 0.3709% error in the prediction of closing price. "
   ]
  },
  {
   "cell_type": "code",
   "execution_count": null,
   "metadata": {},
   "outputs": [],
   "source": []
  },
  {
   "cell_type": "code",
   "execution_count": null,
   "metadata": {},
   "outputs": [],
   "source": []
  },
  {
   "cell_type": "code",
   "execution_count": null,
   "metadata": {},
   "outputs": [],
   "source": []
  },
  {
   "cell_type": "markdown",
   "metadata": {},
   "source": [
    "# Prediciton on Test Set"
   ]
  },
  {
   "cell_type": "code",
   "execution_count": 71,
   "metadata": {},
   "outputs": [],
   "source": [
    "lr = LinearRegression(normalize=True, fit_intercept= True)"
   ]
  },
  {
   "cell_type": "code",
   "execution_count": 75,
   "metadata": {},
   "outputs": [],
   "source": [
    "df = df.dropna()\n",
    "df_target = df_target.dropna()"
   ]
  },
  {
   "cell_type": "code",
   "execution_count": 96,
   "metadata": {},
   "outputs": [
    {
     "data": {
      "text/html": [
       "<div>\n",
       "<style scoped>\n",
       "    .dataframe tbody tr th:only-of-type {\n",
       "        vertical-align: middle;\n",
       "    }\n",
       "\n",
       "    .dataframe tbody tr th {\n",
       "        vertical-align: top;\n",
       "    }\n",
       "\n",
       "    .dataframe thead th {\n",
       "        text-align: right;\n",
       "    }\n",
       "</style>\n",
       "<table border=\"1\" class=\"dataframe\">\n",
       "  <thead>\n",
       "    <tr style=\"text-align: right;\">\n",
       "      <th></th>\n",
       "      <th>0</th>\n",
       "      <th>1</th>\n",
       "    </tr>\n",
       "  </thead>\n",
       "  <tbody>\n",
       "    <tr>\n",
       "      <th>0</th>\n",
       "      <td>d1</td>\n",
       "      <td>75.650002</td>\n",
       "    </tr>\n",
       "    <tr>\n",
       "      <th>1</th>\n",
       "      <td>d2</td>\n",
       "      <td>124.449997</td>\n",
       "    </tr>\n",
       "    <tr>\n",
       "      <th>2</th>\n",
       "      <td>d3</td>\n",
       "      <td>82.660004</td>\n",
       "    </tr>\n",
       "    <tr>\n",
       "      <th>3</th>\n",
       "      <td>d4</td>\n",
       "      <td>57.009998</td>\n",
       "    </tr>\n",
       "    <tr>\n",
       "      <th>4</th>\n",
       "      <td>d5</td>\n",
       "      <td>47.860001</td>\n",
       "    </tr>\n",
       "    <tr>\n",
       "      <th>...</th>\n",
       "      <td>...</td>\n",
       "      <td>...</td>\n",
       "    </tr>\n",
       "    <tr>\n",
       "      <th>97727</th>\n",
       "      <td>d97728</td>\n",
       "      <td>103.230003</td>\n",
       "    </tr>\n",
       "    <tr>\n",
       "      <th>97728</th>\n",
       "      <td>d97729</td>\n",
       "      <td>64.620003</td>\n",
       "    </tr>\n",
       "    <tr>\n",
       "      <th>97729</th>\n",
       "      <td>d97730</td>\n",
       "      <td>575.140015</td>\n",
       "    </tr>\n",
       "    <tr>\n",
       "      <th>97730</th>\n",
       "      <td>d97731</td>\n",
       "      <td>115.400002</td>\n",
       "    </tr>\n",
       "    <tr>\n",
       "      <th>97731</th>\n",
       "      <td>d97732</td>\n",
       "      <td>64.720001</td>\n",
       "    </tr>\n",
       "  </tbody>\n",
       "</table>\n",
       "<p>97729 rows × 2 columns</p>\n",
       "</div>"
      ],
      "text/plain": [
       "            0           1\n",
       "0          d1   75.650002\n",
       "1          d2  124.449997\n",
       "2          d3   82.660004\n",
       "3          d4   57.009998\n",
       "4          d5   47.860001\n",
       "...       ...         ...\n",
       "97727  d97728  103.230003\n",
       "97728  d97729   64.620003\n",
       "97729  d97730  575.140015\n",
       "97730  d97731  115.400002\n",
       "97731  d97732   64.720001\n",
       "\n",
       "[97729 rows x 2 columns]"
      ]
     },
     "execution_count": 96,
     "metadata": {},
     "output_type": "execute_result"
    }
   ],
   "source": [
    "df_target"
   ]
  },
  {
   "cell_type": "code",
   "execution_count": 76,
   "metadata": {},
   "outputs": [
    {
     "data": {
      "text/plain": [
       "0         75.650002\n",
       "1        124.449997\n",
       "2         82.660004\n",
       "3         57.009998\n",
       "4         47.860001\n",
       "            ...    \n",
       "97727    103.230003\n",
       "97728     64.620003\n",
       "97729    575.140015\n",
       "97730    115.400002\n",
       "97731     64.720001\n",
       "Name: 1, Length: 97729, dtype: float64"
      ]
     },
     "execution_count": 76,
     "metadata": {},
     "output_type": "execute_result"
    }
   ],
   "source": [
    "df_target.iloc[:,1]"
   ]
  },
  {
   "cell_type": "code",
   "execution_count": 77,
   "metadata": {},
   "outputs": [
    {
     "name": "stderr",
     "output_type": "stream",
     "text": [
      "c:\\users\\sashu\\appdata\\local\\programs\\python\\python39\\lib\\site-packages\\sklearn\\linear_model\\_base.py:141: FutureWarning: 'normalize' was deprecated in version 1.0 and will be removed in 1.2.\n",
      "If you wish to scale the data, use Pipeline with a StandardScaler in a preprocessing stage. To reproduce the previous behavior:\n",
      "\n",
      "from sklearn.pipeline import make_pipeline\n",
      "\n",
      "model = make_pipeline(StandardScaler(with_mean=False), LinearRegression())\n",
      "\n",
      "If you wish to pass a sample_weight parameter, you need to pass it as a fit parameter to each step of the pipeline as follows:\n",
      "\n",
      "kwargs = {s[0] + '__sample_weight': sample_weight for s in model.steps}\n",
      "model.fit(X, y, **kwargs)\n",
      "\n",
      "\n",
      "  warnings.warn(\n"
     ]
    },
    {
     "data": {
      "text/plain": [
       "LinearRegression(normalize=True)"
      ]
     },
     "execution_count": 77,
     "metadata": {},
     "output_type": "execute_result"
    }
   ],
   "source": [
    "lr.fit(df,df_target.iloc[:,1])"
   ]
  },
  {
   "cell_type": "code",
   "execution_count": 99,
   "metadata": {},
   "outputs": [],
   "source": [
    "Y_prediction = lr.predict(df_test)"
   ]
  },
  {
   "cell_type": "code",
   "execution_count": 101,
   "metadata": {},
   "outputs": [],
   "source": [
    "#saving the labels\n",
    "labels = open(\"Shivam_Shukla_Label_file.txt\", \"w+\")\n",
    "for i in range(len(Y_prediction)):\n",
    "    labels.write(str(\"d\")+str(int(i))+\",\"+str(Y_prediction[i]) + \"\\n\")"
   ]
  },
  {
   "cell_type": "code",
   "execution_count": 98,
   "metadata": {},
   "outputs": [],
   "source": [
    "labels.close()"
   ]
  },
  {
   "cell_type": "code",
   "execution_count": null,
   "metadata": {},
   "outputs": [],
   "source": [
    "MAPE &0.0037 &0.0079 &0.0039 &0.5035 &0.618 \\\\"
   ]
  },
  {
   "cell_type": "code",
   "execution_count": 95,
   "metadata": {},
   "outputs": [
    {
     "name": "stderr",
     "output_type": "stream",
     "text": [
      "c:\\users\\sashu\\appdata\\local\\programs\\python\\python39\\lib\\site-packages\\seaborn\\_decorators.py:36: FutureWarning: Pass the following variables as keyword args: x, y. From version 0.12, the only valid positional argument will be `data`, and passing other arguments without an explicit keyword will result in an error or misinterpretation.\n",
      "  warnings.warn(\n"
     ]
    },
    {
     "data": {
      "image/png": "[encoded data removed]",
      "text/plain": [
       "<Figure size 1080x360 with 1 Axes>"
      ]
     },
     "metadata": {},
     "output_type": "display_data"
    }
   ],
   "source": [
    "models = ['Linear', 'DecisionTree', 'RandomForest']\n",
    "error = [0.0037, 0.0079, 0.0039]\n",
    "\n",
    "# Visualizing the accuracy of all the classification models applied\n",
    "plt.figure(figsize=(15,5))\n",
    "plt.title('Mean_Absolute_Percentage_Error', fontsize=20)\n",
    "# plt.yticks(np.arange(0, 2, 0.1))\n",
    "plt.ylabel(\"Mean_Absolute_Percentage_Error\",fontsize = 15)\n",
    "plt.xlabel(\"Models\", fontsize = 15)\n",
    "sns.set_theme(style=\"whitegrid\")\n",
    "sns.barplot(models, error,)\n",
    "plt.show()"
   ]
  },
  {
   "cell_type": "code",
   "execution_count": null,
   "metadata": {},
   "outputs": [],
   "source": []
  }
 ],
 "metadata": {
  "kernelspec": {
   "display_name": "Python 3 (ipykernel)",
   "language": "python",
   "name": "python3"
  },
  "language_info": {
   "codemirror_mode": {
    "name": "ipython",
    "version": 3
   },
   "file_extension": ".py",
   "mimetype": "text/x-python",
   "name": "python",
   "nbconvert_exporter": "python",
   "pygments_lexer": "ipython3",
   "version": "3.9.4"
  }
 },
 "nbformat": 4,
 "nbformat_minor": 2
}
